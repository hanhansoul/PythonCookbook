{
 "cells": [
  {
   "cell_type": "markdown",
   "metadata": {},
   "source": [
    "# `*expression`/`**expression`和函数参数\n",
    "\n",
    "\n",
    "## `*expression`和`**expression`\n",
    "\n",
    "`*expression`和`**expression`能够在函数调用、列表推导或生成器表达式中提供unpacking操作，其中`*`为迭代器对象的unpacking操作符，`**`为`dict`类型对象的unpacking操作符。\n",
    "\n",
    "`*expression`应用场景：\n",
    "\n",
    "1. 函数定义时表示可变positional形参列表\n",
    "2. 作为赋值语句的左值，对右值进行unpacking操作\n",
    "3. 函数调用时对`list`、`tuple`等可迭代对象进行unpacking操作，提供positional实参\n",
    "4. 在`list`或`tuple`中对可迭代对象元素进行unpacking操作\n",
    "\n",
    "其中1与2，3与4分别有类似之处。\n",
    "\n",
    "`**expression`应用场景：\n",
    "\n",
    "1. 函数定义时表示可变keyword形参列表\n",
    "2. 函数调用时对`dict`类型进行unpacking操作，提供keyword实参\n",
    "3. 在`dict`对象中，对嵌套的`dict`对象进行unpacking操作\n",
    "\n",
    "其中2与3有类似之处。\n",
    "\n",
    "### `list`、`tuple`、`set`以及`dict`中的可迭代对象的unpacking操作\n",
    "\n",
    "`*expression`可用于对可迭代对象进行unpacking操作，包括`tuple`、`list`、`string`、`file`、迭代器与生成器，和`**expression`可用于对`dict`进行unpacking操作。\n",
    "\n",
    "这类unpacking操作只能出现在`tuple`、`list`、`set`和`dict`对象中。*据此推测，在`tuple`、`list`、`set`和`dict`对象中，对可迭代对象进行unpacking操作后，实际上是将其转换为postional参数或keyword参数，并传递给了所在容器的构造器。*"
   ]
  },
  {
   "cell_type": "code",
   "execution_count": 3,
   "metadata": {},
   "outputs": [
    {
     "data": {
      "text/plain": [
       "True"
      ]
     },
     "execution_count": 3,
     "metadata": {},
     "output_type": "execute_result"
    }
   ],
   "source": [
    "from collections import Iterable\n",
    "isinstance({'a': 1, 'b': 2},Iterable)"
   ]
  },
  {
   "cell_type": "code",
   "execution_count": null,
   "metadata": {},
   "outputs": [
    {
     "data": {
      "text/plain": [
       "(0, 1, 2, 3, 4)"
      ]
     },
     "execution_count": 15,
     "metadata": {},
     "output_type": "execute_result"
    }
   ],
   "source": [
    "# 在`tuple`中\n",
    "*range(4), 4"
   ]
  },
  {
   "cell_type": "code",
   "execution_count": 2,
   "metadata": {},
   "outputs": [
    {
     "data": {
      "text/plain": [
       "[1, 2, 3, 4]"
      ]
     },
     "execution_count": 2,
     "metadata": {},
     "output_type": "execute_result"
    }
   ],
   "source": [
    "a = [1, 2, 3]\n",
    "b = a\n",
    "a.append(4)\n",
    "b == a\n",
    "b"
   ]
  },
  {
   "cell_type": "code",
   "execution_count": 14,
   "metadata": {},
   "outputs": [
    {
     "data": {
      "text/plain": [
       "[1, 2, 3]"
      ]
     },
     "execution_count": 14,
     "metadata": {},
     "output_type": "execute_result"
    }
   ],
   "source": [
    "list((1,2,3))"
   ]
  },
  {
   "cell_type": "code",
   "execution_count": 3,
   "metadata": {},
   "outputs": [
    {
     "data": {
      "text/plain": [
       "[(1, 3, 4)]"
      ]
     },
     "execution_count": 3,
     "metadata": {},
     "output_type": "execute_result"
    }
   ],
   "source": [
    "[(1, 3, 4)]"
   ]
  },
  {
   "cell_type": "code",
   "execution_count": 2,
   "metadata": {},
   "outputs": [
    {
     "data": {
      "text/plain": [
       "[0, 1, 2, 3, 4]"
      ]
     },
     "execution_count": 2,
     "metadata": {},
     "output_type": "execute_result"
    }
   ],
   "source": [
    "# 在list中\n",
    "[*range(4), 4]"
   ]
  },
  {
   "cell_type": "code",
   "execution_count": 3,
   "metadata": {},
   "outputs": [
    {
     "data": {
      "text/plain": [
       "{0, 1, 2, 3, 4}"
      ]
     },
     "execution_count": 3,
     "metadata": {},
     "output_type": "execute_result"
    }
   ],
   "source": [
    "# 在`set`中\n",
    "{*range(4), 4}"
   ]
  },
  {
   "cell_type": "code",
   "execution_count": 4,
   "metadata": {},
   "outputs": [
    {
     "data": {
      "text/plain": [
       "{'x': 1, 'y': 2, 'z': 3}"
      ]
     },
     "execution_count": 4,
     "metadata": {},
     "output_type": "execute_result"
    }
   ],
   "source": [
    "# 在dict中\n",
    "{'x': 1, **{'y': 2, 'z': 3}}"
   ]
  },
  {
   "cell_type": "markdown",
   "metadata": {},
   "source": [
    "`*expression`与`**expression`不能对一个单独的可迭代对象进行unpacking操作。"
   ]
  },
  {
   "cell_type": "code",
   "execution_count": 4,
   "metadata": {},
   "outputs": [],
   "source": [
    "# wrong\n",
    "# *range(4)"
   ]
  },
  {
   "cell_type": "markdown",
   "metadata": {},
   "source": [
    "同一个容器中支持多个`*expression`和`**expression`。"
   ]
  },
  {
   "cell_type": "code",
   "execution_count": 15,
   "metadata": {},
   "outputs": [
    {
     "data": {
      "text/plain": [
       "[1, 2, 3, 4, 5, 6, 7]"
      ]
     },
     "execution_count": 15,
     "metadata": {},
     "output_type": "execute_result"
    }
   ],
   "source": [
    "[1, 2, *[3, 4], *[5], *(6, 7)]"
   ]
  },
  {
   "cell_type": "code",
   "execution_count": 16,
   "metadata": {},
   "outputs": [
    {
     "data": {
      "text/plain": [
       "(1, 2, 3, 'a')"
      ]
     },
     "execution_count": 16,
     "metadata": {},
     "output_type": "execute_result"
    }
   ],
   "source": [
    "(1, *[2, 3], *{'a': 1})"
   ]
  },
  {
   "cell_type": "code",
   "execution_count": 17,
   "metadata": {},
   "outputs": [
    {
     "data": {
      "text/plain": [
       "(1, 2, 3, 'a')"
      ]
     },
     "execution_count": 17,
     "metadata": {},
     "output_type": "execute_result"
    }
   ],
   "source": [
    "1, *[2, 3], *{'a': 1}"
   ]
  },
  {
   "cell_type": "code",
   "execution_count": 18,
   "metadata": {},
   "outputs": [
    {
     "data": {
      "text/plain": [
       "{'a': 2, 'c': 'new 3', 'd': 4}"
      ]
     },
     "execution_count": 18,
     "metadata": {},
     "output_type": "execute_result"
    }
   ],
   "source": [
    "{'a': 1, **{'a': 2, 'c': 3}, **{'c': 'new 3', 'd': 4}}"
   ]
  },
  {
   "cell_type": "markdown",
   "metadata": {},
   "source": [
    "### 赋值语句中左值变量的unpacking操作\n",
    "\n",
    "对于左值表达式包含多个变量（即左值为包含多个变量的一个`tuple`或`list`）的赋值语句，左值中包含`*expression`符号的变量为`*expression`变量，而其余的变量为常规变量，在保证常规变量都被赋值的情况下，右值剩余的变量将以一个`list`的形式赋值给对应`*expression`变量。\n",
    "\n",
    "由于当`*expression`超过一个时，unpacking操作将出现歧义，因此赋值语句的左值至多包含一个`*expression`。\n",
    "\n",
    "`*expression`只能在赋值语句中作为左值变量（或在函数定义与调用中）使用，在任何其他地方使用均为错误。\n",
    "\n",
    "`**expression`在这种场景下并不适用，因此无法对右值的dict对象进行unpacking操作。"
   ]
  },
  {
   "cell_type": "code",
   "execution_count": 10,
   "metadata": {},
   "outputs": [
    {
     "name": "stdout",
     "output_type": "stream",
     "text": [
      "0\n",
      "[1, 2, 3]\n",
      "4\n"
     ]
    }
   ],
   "source": [
    "# 这里a, *b, c与(a, *b, c)或[a, *b, c]是等价的\n",
    "a, *b, c = range(5)\n",
    "print(a)\n",
    "print(b)\n",
    "print(c)"
   ]
  },
  {
   "cell_type": "markdown",
   "metadata": {},
   "source": [
    "赋值语句中，`*expression`不能作为唯一一个左值变量。"
   ]
  },
  {
   "cell_type": "code",
   "execution_count": 11,
   "metadata": {},
   "outputs": [
    {
     "data": {
      "text/plain": [
       "[0, 1, 2, 3, 4]"
      ]
     },
     "execution_count": 11,
     "metadata": {},
     "output_type": "execute_result"
    }
   ],
   "source": [
    "# 错误\n",
    "# *a = range(5)\n",
    "\n",
    "# 正确\n",
    "*a, = range(5)\n",
    "a"
   ]
  },
  {
   "cell_type": "code",
   "execution_count": 13,
   "metadata": {},
   "outputs": [
    {
     "name": "stdout",
     "output_type": "stream",
     "text": [
      "1 2 3\n"
     ]
    }
   ],
   "source": [
    "def fixed_keyword_starred_unpacking_func(*, a, b, c):\n",
    "    print(a, b, c)\n",
    "\n",
    "fixed_keyword_starred_unpacking_func(**{'a': 1, 'b': 2, 'c': 3})"
   ]
  },
  {
   "cell_type": "markdown",
   "metadata": {},
   "source": [
    "赋值语句中，`*expression`同样支持嵌套的可迭代对象的unpacking操作。"
   ]
  },
  {
   "cell_type": "code",
   "execution_count": 19,
   "metadata": {},
   "outputs": [
    {
     "data": {
      "text/plain": [
       "[50, 123.45]"
      ]
     },
     "execution_count": 19,
     "metadata": {},
     "output_type": "execute_result"
    }
   ],
   "source": [
    "record = ('ACME', 50, 123.45, (12, 18, 2012))\n",
    "name, *prices, (*_, year) = record\n",
    "prices"
   ]
  },
  {
   "cell_type": "markdown",
   "metadata": {},
   "source": [
    "---\n",
    "\n",
    "## 函数参数列表\n",
    "\n",
    "函数的定义与调用是`*expression`与`**expression`一个重要的应用场景。\n",
    "\n",
    "### 函数定义中的变长形参列表的形式\n",
    "\n",
    "python函数定义的EBNF表达式(注意，官方文档中的EBNF表达式并没有完全表明函数定义语法，如参数默认值的限制条件便没有表示出来，此处还需要阅读文档中的解释文字)：\n",
    "\n",
    "    /* 函数定义 */\n",
    "    funcdef                 ::=  [decorators] \"def\" funcname \"(\n",
    "                                   [parameter_list] \")\" [\"->\" expression] \":\" suite\n",
    "    \n",
    "    /* 装饰器 */\n",
    "    decorators              ::=  decorator+\n",
    "    decorator               ::=  \"@\" dotted_name [\"(\" [argument_list [\",\"]] \")\"] NEWLINE\n",
    "    dotted_name             ::=  identifier (\".\" identifier)*\n",
    "    \n",
    "    /* 参数列表 */\n",
    "    parameter_list          ::=  defparameter (\",\" defparameter)* [\",\" [parameter_list_starargs]]\n",
    "                                 | parameter_list_starargs\n",
    "    parameter_list_starargs ::=  \"*\" [parameter] (\",\" defparameter)* [\",\" [\"**\" parameter [\",\"]]]\n",
    "                                 | \"**\" parameter [\",\"]\n",
    "    parameter               ::=  identifier [\":\" expression]\n",
    "    defparameter            ::=  parameter [\"=\" expression]\n",
    "    funcname                ::=  identifier\n",
    "    \n",
    "python官方文档通过EBNF表达式提供了函数定义的语法，在抛开函数装饰器、函数参数注解和函数返回值注解后，可以将函数定义中的形参列表进行简化，并分为四个部分。\n",
    "\n",
    "    funcname(def_positional_parameters, *args, def_keyword_parameters, **kwargs):\n",
    "        pass\n",
    "\n",
    "即\n",
    "1. `def_positional_parameters`，如`func(a, b, c, ...)`\n",
    "2. `*args`，如`func(..., *args, ...)`\n",
    "3. `def_keyword_parameters`，如`func(..., *, x, y, z, ...)`\n",
    "4. `**kwargs`，如`func(..., *, ..., **kwargs)`\n",
    "\n",
    "这四部分形参列表的解释与注意事项如下：\n",
    "\n",
    "- `def_positional_parameters`和`def_keyword_parameters`形式相同，都为包含了任意数量的给定了参数名的参数，其中又分为未给定默认值的参数（`identifier`）和给定了默认值的参数（`identifier=expression`），且未给定默认值的参数一定位于给定了默认值的参数之前，这两类参数同样都是可选的。\n",
    "- `def_positional_parameters`只负责接收positional参数，而`def_keyword_parameters`只负责接收keyword参数。\n",
    "- 形如`*args`的参数至多出现一次，且要求一定出现在`def_positional_parameters`之后，同时要求出现在`def_keyword_parameters`或`**kwargs`参数之前，负责接收变长的positional参数。\n",
    "- 形如`**kwargs`的参数至多出现一次，且一定位于参数列表中所有形参的最末尾，负责接收变长的keyword参数。\n",
    "- 在函数体中使用变量`args`和`kwargs`访问传入的可变变量，变量`args`的类型为`tuple`，而变量`kwargs`类型为`dict`类型。"
   ]
  },
  {
   "cell_type": "code",
   "execution_count": 6,
   "metadata": {},
   "outputs": [
    {
     "name": "stdout",
     "output_type": "stream",
     "text": [
      "1 2 3\n",
      "(4, 5)\n",
      "10 20 30\n",
      "{'i': 50, 'h': 40}\n"
     ]
    }
   ],
   "source": [
    "def var_positonal_and_keywords_parameters_func(a, b, c, *args, d, e, f, **kwargs):\n",
    "    print(a, b, c)\n",
    "    print(args)\n",
    "    print(d, e, f)\n",
    "    print(kwargs)\n",
    "    \n",
    "var_positonal_and_keywords_parameters_func(1, 2, 3, 4, 5, d=10, e=20, f=30, h=40, i=50)"
   ]
  },
  {
   "cell_type": "markdown",
   "metadata": {},
   "source": [
    "这一特性与“赋值语句中左值变量的unpacking操作”类似，`*expression`变量和`**expression`变量可用于接受变长的参数，不同的是函数中`*args`变量最终为`tuple`类型，而在左值变量赋值语句中变量最终为`list`类型；同时，函数定义中，形参列表可以`*expression`变量和`**expression`变量两种变量，而在赋值语句中只有`*expression`变量。\n",
    "\n",
    "可以将函数形参视为赋值语句中的左值变量，而实参为右值表达式，同样的，`*expression`变量和`**expression`变量可以接受变长的参数列表。\n",
    "\n",
    "如果需要定义一个函数，要求该函数只接受keyword参数，则需要使用如下定义形式，其中所有在`*`和`*args`之后的参数都是仅接受keyword实参的形参。"
   ]
  },
  {
   "cell_type": "code",
   "execution_count": 27,
   "metadata": {},
   "outputs": [
    {
     "name": "stdout",
     "output_type": "stream",
     "text": [
      "1\n",
      "2\n",
      "3\n",
      "{'e': 5, 'd': 4}\n"
     ]
    }
   ],
   "source": [
    "# funcname(*, def_keyword_parameters, **kwargs)\n",
    "def keyword_parameters_only_func(*, a, b, c, **kwargs):\n",
    "    print(a)\n",
    "    print(b)\n",
    "    print(c)\n",
    "    print(kwargs)\n",
    "\n",
    "params = dict(a=1, b=2, c=3, d=4, e=5)\n",
    "keyword_parameters_only_func(**params)"
   ]
  },
  {
   "cell_type": "markdown",
   "metadata": {},
   "source": [
    "#### 函数参数默认值为可变对象\n",
    "\n",
    "python中，函数在定义时会将当前的命名空间中的该函数名绑定到一个函数对象上，这种绑定操作只会执行一次。因此在函数定义时，给定了默认值的参数也只会在函数定义时绑定一次默认值，而在之后的调用中，函数都将使用默认值所指向的同一个对象。因此在函数参数绑定的默认值为一个可变对象时，这一特性需要引起注意。可变对象包括`list`、`set`和`dict`对象等。"
   ]
  },
  {
   "cell_type": "code",
   "execution_count": 3,
   "metadata": {},
   "outputs": [
    {
     "name": "stdout",
     "output_type": "stream",
     "text": [
      "[1]\n",
      "[1, 2]\n",
      "[1, 2, 3]\n"
     ]
    }
   ],
   "source": [
    "def default_value_binding(val, values=[]):\n",
    "    values.append(val)\n",
    "    return values\n",
    "\n",
    "res = default_value_binding(1)\n",
    "print(res)\n",
    "res = default_value_binding(2)\n",
    "print(res)\n",
    "res = default_value_binding(3)\n",
    "print(res)"
   ]
  },
  {
   "cell_type": "markdown",
   "metadata": {},
   "source": [
    "## 函数调用中的实参列表形式\n",
    "    \n",
    "python函数调用的EBNF表达式：\n",
    "    \n",
    "    call                 ::=  primary \"(\" [argument_list [\",\"] | comprehension] \")\"\n",
    "    \n",
    "    argument_list        ::=  positional_arguments [\",\" starred_and_keywords]\n",
    "                                [\",\" keywords_arguments]\n",
    "                              | starred_and_keywords [\",\" keywords_arguments]\n",
    "                              | keywords_arguments\n",
    "    positional_arguments ::=  [\"*\"] expression (\",\" [\"*\"] expression)*\n",
    "    starred_and_keywords ::=  (\"*\" expression | keyword_item)\n",
    "                              (\",\" \"*\" expression | \",\" keyword_item)*\n",
    "    keywords_arguments   ::=  (keyword_item | \"**\" expression)\n",
    "                              (\",\" keyword_item | \",\" \"**\" expression)*\n",
    "    keyword_item         ::=  identifier \"=\" expression\n",
    "    \n",
    "对函数调用语法的EBNF表达式简化，只关注函数调用中的实参列表，可以将其分为两个部分：\n",
    "\n",
    "    funcname(positional_parameters, keyword_parameters)\n",
    "    \n",
    "即\n",
    "\n",
    "1. `positional_parameters`，如`func(1, 2, 3, ...)`\n",
    "2. `keyword_parameters`，如`func(..., a=1, b=2, c=3)`\n",
    "    \n",
    "这两部分实参列表的解释与注意事项如下：\n",
    "\n",
    "- `positional_parameters`是指直接提供实参值的形式，如`expression`；而`keyword_parameters`是指提供形参变量与实参值的形式，如`parameter=expression`。\n",
    "- `positional_parameters`为函数定义中的`def_positional_parameters`和`*args`提供参数；而`keyword_parameters`为函数定义中的`def_keyword_parameters`和`**kwargs`提供参数。"
   ]
  },
  {
   "cell_type": "code",
   "execution_count": 7,
   "metadata": {},
   "outputs": [],
   "source": [
    "def func(a, b, c=1, *args, d, e, f=10, **kwargs):\n",
    "    pass\n",
    "\n",
    "func(1, 2, 3, 4, 5, d=6, e=7, f=8, g=9, h=10)"
   ]
  },
  {
   "cell_type": "markdown",
   "metadata": {},
   "source": [
    "### 函数调用中可迭代实参变量的unpacking操作\n",
    "\n",
    "当需要将变长的可迭代对象作为实参传递给函数参数时，就需要用到`*expression`和`**expression`。\n",
    "\n",
    "`*expression`和`**expression`常见的一个应用是对`tuple`、`list`或`dict`等变量进行unpacking操作，在转换后作为实参变量传递给函数的positional参数和keyword参数。\n",
    "\n",
    "这一特性与“`list`、`tuple`、`set`以及dict中的可迭代对象的unpacking操作”类似\n",
    "。可以将包含了可迭代对象的函数实参列表视为赋值语句中的一个右值表达式，将函数的形参列表视为赋值语句中多个等待被赋值的左值变量。此时通过`*expression`和`**expression`，将实参中的可迭代对象进行unpacking操作，最后将经过unpacking的实参列表传递给函数形参列表。\n",
    "\n",
    "可迭代对象类型的实参通过unpacking操作转换后传递给函数形参列表。\n",
    "\n",
    "#### `*expression`与positional参数\n",
    "\n",
    "`*expression`可用于对函数参数列表中的可迭代对象实参进行unpacking操作，包括`tuple`、`list`、`string`、`file`，其最后返回的是一组positional函数实参。"
   ]
  },
  {
   "cell_type": "code",
   "execution_count": 24,
   "metadata": {},
   "outputs": [
    {
     "name": "stdout",
     "output_type": "stream",
     "text": [
      "1 2 (3,)\n",
      "1 2 (3,)\n",
      "1 2 (3, 1, 2, 3)\n"
     ]
    }
   ],
   "source": [
    "def starred_unpacking_func(a, b, *args):\n",
    "    print(a, b, args)\n",
    "    \n",
    "starred_unpacking_func(*(1, 2, 3))\n",
    "starred_unpacking_func(*[1, 2, 3])\n",
    "starred_unpacking_func(*(1, 2, 3), *[1, 2, 3])"
   ]
  },
  {
   "cell_type": "markdown",
   "metadata": {},
   "source": [
    "#### `**expression`与keyword参数\n",
    "\n",
    "`**expression`可用于对函数参数列表中的`dict`类型的实参进行unpacking操作，其最后返回的是一组keyword函数实参。"
   ]
  },
  {
   "cell_type": "code",
   "execution_count": 26,
   "metadata": {},
   "outputs": [
    {
     "name": "stdout",
     "output_type": "stream",
     "text": [
      "1 2 {}\n",
      "1 2 {'c': 3}\n",
      "1 2 {'c': 3, 'e': 5, 'd': 4}\n"
     ]
    }
   ],
   "source": [
    "def starred_starred_unpacking_func(*, a, b, **kwargs):\n",
    "    print(a, b, kwargs)\n",
    "    \n",
    "starred_starred_unpacking_func(a=1, b=2)\n",
    "starred_starred_unpacking_func(**dict(a=1, b=2, c=3))\n",
    "starred_starred_unpacking_func(**dict(a=1, b=2, c=3), **dict(d=4, e= 5))"
   ]
  },
  {
   "cell_type": "markdown",
   "metadata": {},
   "source": [
    "需要注意的是，`*expression`和`**expression`并非只为变长参数提供实参，对于定长的positional参数和keyword参数同样适用。"
   ]
  },
  {
   "cell_type": "code",
   "execution_count": 12,
   "metadata": {},
   "outputs": [
    {
     "name": "stdout",
     "output_type": "stream",
     "text": [
      "1 2 3\n"
     ]
    }
   ],
   "source": [
    "def fixed_positional_starred_unpacking_func(a, b, c):\n",
    "    print(a, b, c)\n",
    "\n",
    "fixed_positional_starred_unpacking_func(*[1, 2, 3])"
   ]
  },
  {
   "cell_type": "code",
   "execution_count": 13,
   "metadata": {},
   "outputs": [
    {
     "name": "stdout",
     "output_type": "stream",
     "text": [
      "1 2 3\n"
     ]
    }
   ],
   "source": [
    "def fixed_keyword_starred_unpacking_func(*, a, b, c):\n",
    "    print(a, b, c)\n",
    "\n",
    "fixed_keyword_starred_unpacking_func(**{'a': 1, 'b': 2, 'c': 3})"
   ]
  }
 ],
 "metadata": {
  "kernelspec": {
   "display_name": "Python 3",
   "language": "python",
   "name": "python3"
  },
  "language_info": {
   "codemirror_mode": {
    "name": "ipython",
    "version": 3
   },
   "file_extension": ".py",
   "mimetype": "text/x-python",
   "name": "python",
   "nbconvert_exporter": "python",
   "pygments_lexer": "ipython3",
   "version": "3.5.4"
  }
 },
 "nbformat": 4,
 "nbformat_minor": 1
}
