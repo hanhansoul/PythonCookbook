{
 "cells": [
  {
   "cell_type": "markdown",
   "metadata": {},
   "source": [
    "## __dict__\n",
    "\n",
    "在python中，任何东西都可以被视为对象，如对象、函数、甚至类本身等，而对象的`__dict__`属性是一个`dict`对象，包含了对象中的所有属性。\n",
    "\n",
    "对于类`A`与其对象`a`，`A.__dict__`与`a.__dict__`内容是完全独立的，`A.__dict__`中包含的是类变量，而`a.__dict__`中包含的是实例变量。\n",
    "\n",
    "值得注意的是，在类的构造函数中初始化的属性将作为对象属性出现在`a.__dict__`中。"
   ]
  },
  {
   "cell_type": "code",
   "execution_count": 18,
   "metadata": {},
   "outputs": [
    {
     "data": {
      "text/plain": [
       "mappingproxy({'__module__': '__main__',\n",
       "              'x': 10,\n",
       "              'y': 20,\n",
       "              '__init__': <function __main__.A.__init__(self)>,\n",
       "              '__dict__': <attribute '__dict__' of 'A' objects>,\n",
       "              '__weakref__': <attribute '__weakref__' of 'A' objects>,\n",
       "              '__doc__': None})"
      ]
     },
     "execution_count": 18,
     "metadata": {},
     "output_type": "execute_result"
    }
   ],
   "source": [
    "# 类的__dict__\n",
    "# a与b不会出现在类的__dict__中，但__init__()函数将被包含在__dict__中\n",
    "class A:\n",
    "    x = 10\n",
    "    y = 20\n",
    "    def __init__(self):\n",
    "        self.a = 1\n",
    "        self.b = 2\n",
    "    \n",
    "A.__dict__"
   ]
  },
  {
   "cell_type": "code",
   "execution_count": 19,
   "metadata": {},
   "outputs": [
    {
     "data": {
      "text/plain": [
       "{'a': 1, 'b': 2, 'z': 30}"
      ]
     },
     "execution_count": 19,
     "metadata": {},
     "output_type": "execute_result"
    }
   ],
   "source": [
    "# 对象的__dict__\n",
    "a = A()\n",
    "a.z = 30\n",
    "a.__dict__"
   ]
  },
  {
   "cell_type": "code",
   "execution_count": 16,
   "metadata": {},
   "outputs": [
    {
     "data": {
      "text/plain": [
       "{'x': 10}"
      ]
     },
     "execution_count": 16,
     "metadata": {},
     "output_type": "execute_result"
    }
   ],
   "source": [
    "# 函数的__dict__\n",
    "def func():\n",
    "    pass\n",
    "\n",
    "func.x = 10\n",
    "func.__dict__"
   ]
  },
  {
   "cell_type": "markdown",
   "metadata": {},
   "source": [
    "通过`__dict__`的特性，我们可以直接通过操作`__dict__`向对象中添加或删除属性。"
   ]
  },
  {
   "cell_type": "code",
   "execution_count": 21,
   "metadata": {},
   "outputs": [
    {
     "data": {
      "text/plain": [
       "{'a': 10, 'b': 20}"
      ]
     },
     "execution_count": 21,
     "metadata": {},
     "output_type": "execute_result"
    }
   ],
   "source": [
    "class C:\n",
    "    def __init__(self):\n",
    "        self.a = 10\n",
    "        self.b = 20\n",
    "        \n",
    "c = C()\n",
    "c.__dict__"
   ]
  },
  {
   "cell_type": "markdown",
   "metadata": {},
   "source": [
    "利用`dict`对象的`update()`函数更新字典。"
   ]
  },
  {
   "cell_type": "code",
   "execution_count": 23,
   "metadata": {},
   "outputs": [
    {
     "data": {
      "text/plain": [
       "{'a': 100, 'b': 20, 'c': 200}"
      ]
     },
     "execution_count": 23,
     "metadata": {},
     "output_type": "execute_result"
    }
   ],
   "source": [
    "c.__dict__.update({'a': 100, 'c': 200})\n",
    "c.__dict__"
   ]
  },
  {
   "cell_type": "markdown",
   "metadata": {},
   "source": [
    "python3中，类的`__dict__`对象为`mappingproxy`类型对象，因此不能通过`update()`函数更新。\n",
    "\n",
    "### __dict__与dir()的区别\n"
   ]
  },
  {
   "cell_type": "markdown",
   "metadata": {},
   "source": [
    "## getattr()、setattr()、delattr()与hasattr()\n",
    "\n",
    "`getattr()`、`setattr()`、`delattr()`与`hasattr()`等函数是实现python反射机制的核心函数。\n",
    "\n",
    "`getattr(object, attribute, default)`：返回对象`object`中`attribute`属性的值，若属性不存在则返回给定默认值`default`。在属性存在时，该函数等价于`object.attribute`。\n",
    "\n",
    "`setattr(object, attribute, value)`：将对象`object`中`attribute`属性的值设为`value`，若属性不存在，则创建一个新属性并赋值。该函数等价于`object.attribute = value`。\n",
    "\n",
    "`delattr(object, attribuet)`：删除对象`object`中的`attribute`属性。该函数等价于`del object.attribute`。\n",
    "\n",
    "`hasattr(object, attribute)`：返回对象`object`中是否包含`attribute`属性，包含则返回`True`。\n",
    "\n",
    "以上四个函数所操作的对象属性集合对应的是`dir(object)`的返回值。"
   ]
  },
  {
   "cell_type": "code",
   "execution_count": 53,
   "metadata": {},
   "outputs": [
    {
     "name": "stdout",
     "output_type": "stream",
     "text": [
      "['__class__', '__delattr__', '__dict__', '__dir__', '__doc__', '__eq__', '__format__', '__ge__', '__getattribute__', '__gt__', '__hash__', '__init__', '__init_subclass__', '__le__', '__lt__', '__module__', '__ne__', '__new__', '__reduce__', '__reduce_ex__', '__repr__', '__setattr__', '__sizeof__', '__str__', '__subclasshook__', '__weakref__', 'x', 'y', 'z']\n",
      "['__class__', '__delattr__', '__dict__', '__dir__', '__doc__', '__eq__', '__format__', '__ge__', '__getattribute__', '__gt__', '__hash__', '__init__', '__init_subclass__', '__le__', '__lt__', '__module__', '__ne__', '__new__', '__reduce__', '__reduce_ex__', '__repr__', '__setattr__', '__sizeof__', '__str__', '__subclasshook__', '__weakref__', 'a', 'b', 'x', 'y', 'z']\n"
     ]
    }
   ],
   "source": [
    "class D:\n",
    "    x = 10\n",
    "    y = 20\n",
    "    z = 30\n",
    "    def __init__(self):\n",
    "        self.a = 1\n",
    "        self.b = 2\n",
    "\n",
    "# dir(D) 包含了x, y, z属性但不包含a, b属性\n",
    "print(dir(D))\n",
    "d = D()\n",
    "# dir(d) 包含了x, y, z以及a, b属性\n",
    "print(dir(d))"
   ]
  },
  {
   "cell_type": "code",
   "execution_count": 52,
   "metadata": {},
   "outputs": [
    {
     "name": "stdout",
     "output_type": "stream",
     "text": [
      "10\n",
      "20\n",
      "None\n",
      "10\n",
      "20\n",
      "1\n",
      "<built-in method __sizeof__ of D object at 0x000001C6D6396B38>\n"
     ]
    }
   ],
   "source": [
    "print(getattr(D, 'x', None))\n",
    "print(getattr(D, 'y', None))\n",
    "print(getattr(D, 'a', None))\n",
    "\n",
    "print(getattr(d, 'x', None))\n",
    "print(getattr(d, 'y', None))\n",
    "print(getattr(d, 'a', None))\n",
    "\n",
    "print(getattr(d, '__sizeof__', None))"
   ]
  },
  {
   "cell_type": "code",
   "execution_count": 43,
   "metadata": {},
   "outputs": [
    {
     "name": "stdout",
     "output_type": "stream",
     "text": [
      "True\n",
      "True\n",
      "False\n",
      "True\n",
      "True\n",
      "True\n"
     ]
    }
   ],
   "source": [
    "print(hasattr(D, 'x'))\n",
    "print(hasattr(D, 'y'))\n",
    "print(hasattr(D, 'a'))\n",
    "\n",
    "print(hasattr(d, 'x'))\n",
    "print(hasattr(d, 'y'))\n",
    "print(hasattr(d, 'a'))"
   ]
  },
  {
   "cell_type": "code",
   "execution_count": 48,
   "metadata": {},
   "outputs": [
    {
     "data": {
      "text/plain": [
       "1"
      ]
     },
     "execution_count": 48,
     "metadata": {},
     "output_type": "execute_result"
    }
   ],
   "source": [
    "d.__getattribute__('a')"
   ]
  },
  {
   "cell_type": "code",
   "execution_count": 61,
   "metadata": {},
   "outputs": [
    {
     "name": "stdout",
     "output_type": "stream",
     "text": [
      "__getattribute__() is called.\n",
      "100\n",
      "\n",
      "__getattribute__() is called.\n",
      "__getattr__() is called.\n",
      "zzz from getattr\n",
      "\n"
     ]
    }
   ],
   "source": [
    "class E:\n",
    "    x = 100\n",
    "    def __getattribute__(self, *args, **kwargs):\n",
    "        print('__getattribute__() is called.')\n",
    "        return object.__getattribute__(self, *args, **kwargs)\n",
    "    \n",
    "    def __getattr__(self, name):\n",
    "        print('__getattr__() is called.')\n",
    "        return name + \" from getattr\"\n",
    "    \n",
    "    def __get__(self, instance, owner):\n",
    "        print('__get__() is called.')\n",
    "        return self\n",
    "    \n",
    "    def foo(self, x):\n",
    "        print(x)\n",
    "        \n",
    "e = E()\n",
    "print(e.x)\n",
    "print()\n",
    "print(e.zzz)\n",
    "print()"
   ]
  }
 ],
 "metadata": {
  "kernelspec": {
   "display_name": "Python 3",
   "language": "python",
   "name": "python3"
  },
  "language_info": {
   "codemirror_mode": {
    "name": "ipython",
    "version": 3
   },
   "file_extension": ".py",
   "mimetype": "text/x-python",
   "name": "python",
   "nbconvert_exporter": "python",
   "pygments_lexer": "ipython3",
   "version": "3.6.5"
  }
 },
 "nbformat": 4,
 "nbformat_minor": 2
}
