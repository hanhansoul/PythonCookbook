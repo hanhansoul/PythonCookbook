{
 "cells": [
  {
   "cell_type": "markdown",
   "metadata": {},
   "source": [
    "## 8.5 python类中的私有属性\n",
    "\n",
    "python并没有提供类似于Java或C++中成员属性的访问控制权限功能。\n",
    "\n",
    "python有一种对成员属性名的命名传统来保证\n",
    "\n",
    "1. 所有以单下划线为前缀命名的属性或方法视为私有的，但python并不会阻止你访问私有属性或方法。\n",
    "2. 所有以双下划线为前缀命名的属性或方法都会被编译器重命名，将双下划线替换为`_ClassName__`，这一机制是为了防止该方法被其子类重写。\n"
   ]
  },
  {
   "cell_type": "markdown",
   "metadata": {},
   "source": [
    "## 8.6 为类的成员属性提供setter与getter方法\n",
    "\n",
    "使用`@property`、`@attr.setter`、`@attr.deleter`装饰器。"
   ]
  },
  {
   "cell_type": "markdown",
   "metadata": {},
   "source": [
    "## 8.7 子类调用父类的方法\n",
    "\n",
    "使用`super()`以及`super(Clazz, instance)`。\n",
    "\n",
    "**MRO继承树**"
   ]
  },
  {
   "cell_type": "markdown",
   "metadata": {},
   "source": [
    "## 8.8 扩展子类中的property的功能\n"
   ]
  },
  {
   "cell_type": "markdown",
   "metadata": {},
   "source": [
    "## 8.9 描述符\n",
    "\n",
    "## 8.10 描述符引用之一 懒加载\n",
    "\n",
    "描述符的应用。\n",
    "\n",
    "## 8.11 setattr()\n",
    "\n",
    "## 8.12 抽象类\n",
    "\n",
    "## 8.13 描述符应用之二\n",
    "\n",
    "## 8.14 自定义容器\n",
    "\n",
    "`collections`\n",
    "\n",
    "## 8.15 代理模式\n",
    "\n",
    "`__setattr__()`\n",
    "\n",
    "`__getattr__()`\n",
    "\n",
    "`__delattr__()`"
   ]
  }
 ],
 "metadata": {
  "kernelspec": {
   "display_name": "Python 3",
   "language": "python",
   "name": "python3"
  },
  "language_info": {
   "codemirror_mode": {
    "name": "ipython",
    "version": 3
   },
   "file_extension": ".py",
   "mimetype": "text/x-python",
   "name": "python",
   "nbconvert_exporter": "python",
   "pygments_lexer": "ipython3",
   "version": "3.5.1"
  }
 },
 "nbformat": 4,
 "nbformat_minor": 2
}
