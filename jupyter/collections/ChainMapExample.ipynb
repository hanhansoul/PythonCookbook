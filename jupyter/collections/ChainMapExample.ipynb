{
 "cells": [
  {
   "cell_type": "markdown",
   "metadata": {},
   "source": [
    "A ChainMap class is provided for quickly linking a number of mappings so they can be treated as a single unit. It is often much faster than creating a new dictionary and running multiple update() calls.\n",
    "\n",
    "The class can be used to simulate nested scopes and is useful in templating.\n",
    "\n",
    "ChainMap用于将多个dict类型对象快速合并为一个ChainMap对象，使用ChainMap的效率通常比创建一个新的dict对象或调用多个update()更快。\n",
    "\n",
    "ChainMap是一个可更新的视图，其中包含的元素是原dict的引用，因此在原dict对象发生变化时，ChainMap中保存的dict对象内容也会发生变化，同样的，对ChainMap的修改操作也会反映到对应的原dict对象中。"
   ]
  },
  {
   "cell_type": "markdown",
   "metadata": {},
   "source": [
    "A ChainMap groups multiple dicts or other mappings together to create a single, updateable view. If no maps are specified, a single empty dictionary is provided so that a new chain always has at least one mapping.\n",
    "\n",
    "The underlying mappings are stored in a list. That list is public and can be accessed or updated using the maps attribute. There is no other state.\n",
    "\n",
    "Lookups search the underlying mappings successively until a key is found. In contrast, writes, updates, and deletions only operate on the first mapping.\n",
    "\n",
    "A ChainMap incorporates the underlying mappings by reference. So, if one of the underlying mappings gets updated, those changes will be reflected in ChainMap.\n",
    "\n",
    "All of the usual dictionary methods are supported. In addition, there is a maps attribute, a method for creating new subcontexts, and a property for accessing all but the first mapping:\n",
    "\n",
    "ChainMap中的dict对象保存在一个list中，该list可以被访问或更新。\n",
    "\n",
    "ChainMap中的属性查询返回的是第一个满足条件的键，但是，对ChainMap的添加、修改、删除等操作都只会对ChainMap中的list保存的第一个dict对象有效。"
   ]
  },
  {
   "cell_type": "code",
   "execution_count": 1,
   "metadata": {},
   "outputs": [
    {
     "data": {
      "text/plain": [
       "ChainMap({})"
      ]
     },
     "execution_count": 1,
     "metadata": {},
     "output_type": "execute_result"
    }
   ],
   "source": [
    "from collections import ChainMap\n",
    "\n",
    "c = ChainMap()\n",
    "c"
   ]
  },
  {
   "cell_type": "code",
   "execution_count": 5,
   "metadata": {},
   "outputs": [
    {
     "data": {
      "text/plain": [
       "ChainMap({'d': 4, 'c': 3, 'a': 1, 'b': 2}, {'e': 30, 'f': 40, 'a': 10, 'b': 20})"
      ]
     },
     "execution_count": 5,
     "metadata": {},
     "output_type": "execute_result"
    }
   ],
   "source": [
    "d1 = dict(a=1, b=2, c=3, d=4)\n",
    "d2 = dict(a=10, b=20, e=30, f=40)\n",
    "cm = ChainMap(d1, d2)\n",
    "cm"
   ]
  },
  {
   "cell_type": "code",
   "execution_count": 6,
   "metadata": {},
   "outputs": [
    {
     "data": {
      "text/plain": [
       "ChainMap({'d': 4, 'c': 3, 'a': 100, 'b': 2}, {'e': 30, 'f': 40, 'a': 10, 'b': 20})"
      ]
     },
     "execution_count": 6,
     "metadata": {},
     "output_type": "execute_result"
    }
   ],
   "source": [
    "d1['a'] = 100\n",
    "cm"
   ]
  },
  {
   "cell_type": "code",
   "execution_count": 7,
   "metadata": {},
   "outputs": [
    {
     "data": {
      "text/plain": [
       "ChainMap({'d': 4, 'c': 3, 'a': 100, 'b': 200}, {'e': 30, 'f': 40, 'a': 10, 'b': 20})"
      ]
     },
     "execution_count": 7,
     "metadata": {},
     "output_type": "execute_result"
    }
   ],
   "source": [
    "cm['b'] = 200\n",
    "cm"
   ]
  },
  {
   "cell_type": "code",
   "execution_count": 8,
   "metadata": {},
   "outputs": [
    {
     "data": {
      "text/plain": [
       "ChainMap({'f': 400, 'd': 4, 'c': 3, 'a': 100, 'b': 200}, {'e': 30, 'f': 40, 'a': 10, 'b': 20})"
      ]
     },
     "execution_count": 8,
     "metadata": {},
     "output_type": "execute_result"
    }
   ],
   "source": [
    "cm['f'] = 400\n",
    "cm"
   ]
  },
  {
   "cell_type": "code",
   "execution_count": 9,
   "metadata": {},
   "outputs": [
    {
     "data": {
      "text/plain": [
       "{'a': 100, 'b': 200, 'c': 3, 'd': 4, 'f': 400}"
      ]
     },
     "execution_count": 9,
     "metadata": {},
     "output_type": "execute_result"
    }
   ],
   "source": [
    "d1"
   ]
  },
  {
   "cell_type": "markdown",
   "metadata": {},
   "source": [
    "ChainMap支持所有的dict操作，同时包含一些额外的属性：\n",
    "\n",
    "ChainMap.maps\n",
    "\n",
    "返回ChainMap中保存dict对象的list，ChainMap.maps可以修改更新，对ChainMap.maps的修改会反映到原ChainMap与原dict中。\n",
    "\n",
    "ChainMap.new_child(m=None)\n",
    "\n",
    "返回一个新的ChainMap对象，在原ChainMap的首位添加一个新的dict对象`m`，若`m`为None，则添加一个空的dict对象，等价于`ChainMap({}, *d.maps)`。\n",
    "\n",
    "ChainMap.parents\n",
    "\n",
    "返回一个新的ChainMap对象，去除原ChainMap首位的dict对象，等价于`ChainMap(*d.maps[1:])`。"
   ]
  },
  {
   "cell_type": "code",
   "execution_count": 11,
   "metadata": {},
   "outputs": [
    {
     "data": {
      "text/plain": [
       "ChainMap({'f': 400, 'd': 4, 'c': 3, 'a': 100, 'b': 200}, {'e': 30, 'f': 40, 'a': 10, 'b': 20}, {'h': 'h', 'g': 'g'})"
      ]
     },
     "execution_count": 11,
     "metadata": {},
     "output_type": "execute_result"
    }
   ],
   "source": [
    "cm.maps.append({'g': 'g', 'h': 'h'})\n",
    "cm"
   ]
  },
  {
   "cell_type": "code",
   "execution_count": 13,
   "metadata": {},
   "outputs": [
    {
     "data": {
      "text/plain": [
       "ChainMap({'c': 13, 'a': 11, 'b': 12}, {'f': 400, 'd': 4, 'c': 3, 'a': 100, 'b': 200}, {'e': 30, 'f': 40, 'a': 10, 'b': 20}, {'h': 'h', 'g': 'g'})"
      ]
     },
     "execution_count": 13,
     "metadata": {},
     "output_type": "execute_result"
    }
   ],
   "source": [
    "cm.new_child(dict(a=11, b=12, c=13))"
   ]
  },
  {
   "cell_type": "code",
   "execution_count": 16,
   "metadata": {},
   "outputs": [
    {
     "data": {
      "text/plain": [
       "ChainMap({'e': 30, 'f': 40, 'a': 10, 'b': 20}, {'h': 'h', 'g': 'g'})"
      ]
     },
     "execution_count": 16,
     "metadata": {},
     "output_type": "execute_result"
    }
   ],
   "source": [
    "cm.parents"
   ]
  },
  {
   "cell_type": "code",
   "execution_count": null,
   "metadata": {},
   "outputs": [],
   "source": [
    "c = ChainMap()\n",
    "d = c.new_child()     # Create nested child context\n",
    "e = c.new_child()     # Child of c, independent from d"
   ]
  },
  {
   "cell_type": "code",
   "execution_count": 17,
   "metadata": {},
   "outputs": [
    {
     "data": {
      "text/plain": [
       "DeepChainMap({'zebra': 'black'}, {'elephant': 'blue'}, {'lion': 'yellow'})"
      ]
     },
     "execution_count": 17,
     "metadata": {},
     "output_type": "execute_result"
    }
   ],
   "source": [
    "class DeepChainMap(ChainMap):\n",
    "    'Variant of ChainMap that allows direct updates to inner scopes'\n",
    "\n",
    "    def __setitem__(self, key, value):\n",
    "        for mapping in self.maps:\n",
    "            if key in mapping:\n",
    "                mapping[key] = value\n",
    "                return\n",
    "        self.maps[0][key] = value\n",
    "\n",
    "    def __delitem__(self, key):\n",
    "        for mapping in self.maps:\n",
    "            if key in mapping:\n",
    "                del mapping[key]\n",
    "                return\n",
    "        raise KeyError(key)\n",
    "\n",
    "d = DeepChainMap({'zebra': 'black'}, {'elephant': 'blue'}, {'lion': 'yellow'})\n",
    "d"
   ]
  },
  {
   "cell_type": "code",
   "execution_count": 18,
   "metadata": {},
   "outputs": [
    {
     "data": {
      "text/plain": [
       "DeepChainMap({'zebra': 'black', 'snake': 'red'}, {}, {'lion': 'orange'})"
      ]
     },
     "execution_count": 18,
     "metadata": {},
     "output_type": "execute_result"
    }
   ],
   "source": [
    "d['lion'] = 'orange'         # update an existing key two levels down\n",
    "d['snake'] = 'red'           # new keys get added to the topmost dict\n",
    "del d['elephant']            # remove an existing key one level down\n",
    "d"
   ]
  }
 ],
 "metadata": {
  "kernelspec": {
   "display_name": "Python 3",
   "language": "python",
   "name": "python3"
  },
  "language_info": {
   "codemirror_mode": {
    "name": "ipython",
    "version": 3
   },
   "file_extension": ".py",
   "mimetype": "text/x-python",
   "name": "python",
   "nbconvert_exporter": "python",
   "pygments_lexer": "ipython3",
   "version": "3.5.1"
  }
 },
 "nbformat": 4,
 "nbformat_minor": 2
}
