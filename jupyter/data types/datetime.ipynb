{
 "cells": [
  {
   "cell_type": "markdown",
   "metadata": {},
   "source": [
    "# datetime\n",
    "\n",
    "- `datetime.date`表示一个不包含时区日期，包含`year`、`month`和`day`三个属性\n",
    "- `datetime.time`表示一个时刻，包含`hour`、`minute`、`second`、`microsecond`与`tzinfo`属性\n",
    "- `datetime.datetime`表示一个日期与时刻的组合，包含`datetime.date`与`datetime.time`所有属性的组合\n",
    "- `datetime.timedelta`表示两个`date`、`time`或`datetime`的时间间隔，以微秒为单位\n",
    "- `datetime.tzinfo`表示时区信息，在`datetime`或`time`类中使用\n",
    "- `datetime.timezone`"
   ]
  },
  {
   "cell_type": "code",
   "execution_count": 1,
   "metadata": {},
   "outputs": [],
   "source": [
    "from datetime import timedelta, date, time, datetime\n",
    "import time"
   ]
  },
  {
   "cell_type": "markdown",
   "metadata": {},
   "source": [
    "## timedelta对象\n",
    "\n",
    "`timedelta`构造方法如下：\n",
    "\n",
    "    datetime.timedelta(days=0, \n",
    "                seconds=0, \n",
    "                microseconds=0, \n",
    "                milliseconds=0, \n",
    "                minutes=0, \n",
    "                hours=0, \n",
    "                weeks=0)\n",
    "\n",
    "所有参数默认值为0，参数可以为整型或浮点型，可以为正数或负数。\n",
    "\n",
    "在创建一个`timedelta`后，`timedelta`内部会将`milliseconds`转换为`microseconds`，`hour`与`minutes`转换为`seconds`，`weeks`转换为`days`。\n",
    "\n",
    "在输出一个`timedelta`对象时，会以`timedelta(days, seconds, microseconds)`格式输出。\n",
    "\n",
    "timedelta支持的运算\n",
    "\n",
    "- `t1 = t2 + t3`与`t1 = t2 - t3`\n",
    "- `t1 = t2 * i`\n",
    "- `f = t1 / t2`\n",
    "- `t1 = t2 // i`或`t1 = t2 // t3`\n",
    "- `t1 = t2 % t3`"
   ]
  },
  {
   "cell_type": "code",
   "execution_count": 14,
   "metadata": {},
   "outputs": [
    {
     "data": {
      "text/plain": [
       "datetime.timedelta(21, 72001, 500000)"
      ]
     },
     "execution_count": 14,
     "metadata": {},
     "output_type": "execute_result"
    }
   ],
   "source": [
    "# timedelta中实际存储格式datetime.timedelta(days, seconds, microseconds)\n",
    "timedelta(milliseconds=1500, hours=20, weeks=3)"
   ]
  },
  {
   "cell_type": "code",
   "execution_count": 15,
   "metadata": {},
   "outputs": [
    {
     "data": {
      "text/plain": [
       "True"
      ]
     },
     "execution_count": 15,
     "metadata": {},
     "output_type": "execute_result"
    }
   ],
   "source": [
    "year = timedelta(days=365)\n",
    "another_year = timedelta(weeks=40, days=84, hours=23, minutes=50, seconds=600)\n",
    "year == another_year"
   ]
  },
  {
   "cell_type": "code",
   "execution_count": 17,
   "metadata": {},
   "outputs": [
    {
     "data": {
      "text/plain": [
       "datetime.timedelta(365)"
      ]
     },
     "execution_count": 17,
     "metadata": {},
     "output_type": "execute_result"
    }
   ],
   "source": [
    "ten_years = 10 * year\n",
    "nine_years = 9 * year\n",
    "ten_years - nine_years"
   ]
  },
  {
   "cell_type": "code",
   "execution_count": 19,
   "metadata": {},
   "outputs": [
    {
     "data": {
      "text/plain": [
       "True"
      ]
     },
     "execution_count": 19,
     "metadata": {},
     "output_type": "execute_result"
    }
   ],
   "source": [
    "three_years = nine_years / 3\n",
    "abs(three_years - ten_years) == 2 * three_years + year"
   ]
  },
  {
   "cell_type": "markdown",
   "metadata": {},
   "source": [
    "## date对象\n",
    "\n",
    "`datetime.date`对象表示一个日期，包含年、月、日信息。\n",
    "\n",
    "构造方法\n",
    "\n",
    "    class datetime.date(year, month, day)\n",
    "\n",
    "类方法\n",
    "\n",
    "- `date.today()`当前当地日期，等价于`date.fromtimestamp(time.time())`\n",
    "- `date.fromtimestamp(timestamp)`将时间戳转换为`date`\n",
    "- `date.fromordinal(ordinal)`\n",
    "\n",
    "类属性\n",
    "\n",
    "- `date.min`等价于`date(MINYEAR, 1, 1)`\n",
    "- `date.max`等价于`date(MAXYEAR, 12, 31)`\n",
    "\n",
    "实例属性，`date`的实例属性均为只读属性。\n",
    "\n",
    "- `date.year`\n",
    "- `date.month`\n",
    "- `date.day`\n",
    "\n",
    "`date`支持的运算\n",
    "\n",
    "- `date2 = date1 + timedelta`与`date2 = date1 - timedelta`\n",
    "- `timedelta = date1 - date2`\n",
    "- `date1 < date2`\n",
    "\n",
    "实例方法\n",
    "\n",
    "- `date.replace(year=self.year, month=self.month, day=self.day)`返回一个修改替换了对应的原年月日的属性值的新的`date`对象\n",
    "- `date.timetuple()`\n",
    "- `date.weekday()`返回该日期的为该周的星期几，其中周一为0，周日为6\n",
    "- `date.isoweekday()`同上，其中周一为1，周日为7\n",
    "- `date.isocalendar()`\n",
    "- `date.isoformat()`返回`YYYY-MM-DD`格式的日期\n",
    "- `date.strftime(format)`将字符串转换为日期，与`__format__(format)`类似"
   ]
  },
  {
   "cell_type": "code",
   "execution_count": 20,
   "metadata": {},
   "outputs": [
    {
     "data": {
      "text/plain": [
       "datetime.date(2018, 8, 2)"
      ]
     },
     "execution_count": 20,
     "metadata": {},
     "output_type": "execute_result"
    }
   ],
   "source": [
    "today = date.today()\n",
    "today"
   ]
  },
  {
   "cell_type": "code",
   "execution_count": 23,
   "metadata": {},
   "outputs": [
    {
     "data": {
      "text/plain": [
       "datetime.date(2018, 6, 24)"
      ]
     },
     "execution_count": 23,
     "metadata": {},
     "output_type": "execute_result"
    }
   ],
   "source": [
    "specific_date = date(today.year, 6, 24)\n",
    "specific_date"
   ]
  },
  {
   "cell_type": "code",
   "execution_count": 24,
   "metadata": {},
   "outputs": [
    {
     "data": {
      "text/plain": [
       "datetime.date(2017, 6, 24)"
      ]
     },
     "execution_count": 24,
     "metadata": {},
     "output_type": "execute_result"
    }
   ],
   "source": [
    "specific_date.replace(year=today.year - 1)"
   ]
  },
  {
   "cell_type": "code",
   "execution_count": 25,
   "metadata": {},
   "outputs": [
    {
     "data": {
      "text/plain": [
       "datetime.timedelta(-39)"
      ]
     },
     "execution_count": 25,
     "metadata": {},
     "output_type": "execute_result"
    }
   ],
   "source": [
    "specific_date - today"
   ]
  },
  {
   "cell_type": "code",
   "execution_count": 28,
   "metadata": {},
   "outputs": [
    {
     "data": {
      "text/plain": [
       "time.struct_time(tm_year=2018, tm_mon=8, tm_mday=2, tm_hour=0, tm_min=0, tm_sec=0, tm_wday=3, tm_yday=214, tm_isdst=-1)"
      ]
     },
     "execution_count": 28,
     "metadata": {},
     "output_type": "execute_result"
    }
   ],
   "source": [
    "today.timetuple()"
   ]
  },
  {
   "cell_type": "code",
   "execution_count": 29,
   "metadata": {},
   "outputs": [
    {
     "data": {
      "text/plain": [
       "'02/08/18'"
      ]
     },
     "execution_count": 29,
     "metadata": {},
     "output_type": "execute_result"
    }
   ],
   "source": [
    "today.strftime('%d/%m/%y')"
   ]
  },
  {
   "cell_type": "code",
   "execution_count": 30,
   "metadata": {},
   "outputs": [
    {
     "data": {
      "text/plain": [
       "'Thursday 02. August 2018'"
      ]
     },
     "execution_count": 30,
     "metadata": {},
     "output_type": "execute_result"
    }
   ],
   "source": [
    "today.strftime('%A %d. %B %Y')"
   ]
  },
  {
   "cell_type": "code",
   "execution_count": 31,
   "metadata": {},
   "outputs": [
    {
     "data": {
      "text/plain": [
       "'The day is 02, the month is August.'"
      ]
     },
     "execution_count": 31,
     "metadata": {},
     "output_type": "execute_result"
    }
   ],
   "source": [
    "'The {1} is {0:%d}, the {2} is {0:%B}.'.format(today, \"day\", \"month\")"
   ]
  },
  {
   "cell_type": "markdown",
   "metadata": {},
   "source": [
    "## time对象\n",
    "\n",
    "`time`对象表示一天内的某一个时刻，包含时分秒等信息。\n",
    "\n",
    "构造方法\n",
    "\n",
    "    datetime.time(hour=0, \n",
    "            minute=0, \n",
    "            second=0, \n",
    "            microsecond=0, \n",
    "            tzinfo=None, \n",
    "            *, \n",
    "            fold=0)\n",
    "            \n",
    "类属性\n",
    "\n",
    "- `time.max`\n",
    "- `time.min`\n",
    "\n",
    "实例属性\n",
    "\n",
    "所有实例属性均为只读属性。\n",
    "\n",
    "- `time.hour`\n",
    "- `time.minute`\n",
    "- `time.second`\n",
    "- `time.microsecond`\n",
    "- `time.tzinfo`\n",
    "- `time.fold`\n",
    "\n",
    "实例方法\n",
    "\n",
    "- `time.replace(hour=self.hour, minute=self.minute, second=self.second, microsecond=self.microsecond, tzinfo=self.tzinfo, * fold=0)`返回一个修改替换了对应原属性值的新的`time`对象\n",
    "- `time.strftime(format)`\n",
    "- `time.__format__(format)`"
   ]
  },
  {
   "cell_type": "markdown",
   "metadata": {},
   "source": [
    "## datetime对象\n",
    "\n",
    "`datetime`对象中包含了`date`与`time`对象的内容。\n",
    "\n",
    "构造方法\n",
    "\n",
    "    datetime.datetime(year, \n",
    "                month, \n",
    "                day, \n",
    "                hour=0, \n",
    "                minute=0, \n",
    "                second=0, \n",
    "                microsecond=0, \n",
    "                tzinfo=None)\n",
    "\n",
    "类方法\n",
    "\n",
    "- `datetime.today()`当前当地日期时间，等同于`datetime.fromtimestamp(time.time())`\n",
    "- `datetime.now()`当前当地日期时间，类似于`datetime.today()`\n",
    "- `datetime.combine(date, time)`将`date`与`time`对象合并为一个`datetime`对象\n",
    "- `datetime.strptime(date_string, format)`将字符串转换为一个`datetime`对象\n",
    "\n",
    "实例属性\n",
    "\n",
    "- `datetime.year`\n",
    "- `datetime.month`\n",
    "- `datetime.day`\n",
    "- `datetime.hour`\n",
    "- `datetime.minute`\n",
    "- `datetime.second`\n",
    "- `datetime.microsecond`\n",
    "- `datetime.tzinfo`\n",
    "\n",
    "`datetime`支持的运算\n",
    "\n",
    "- `datetime2 = datetime1 + timedelta`\n",
    "- `datetime2 = datetime2 - timedelta`\n",
    "- `timedelta = datetime1 - datetime2`\n",
    "- `datetime1 < datetime2`\n",
    "\n",
    "实例方法\n",
    "\n",
    "- `datetime.date()`取`datetime`对象的`date`部分并转换为一个`date`对象\n",
    "- `datetime.time()`取`datetime`对象的`time`部分并转换为一个`time`对象\n",
    "- `datetime.timetz()`\n",
    "- `datetime.repalce()`\n",
    "- `datetime.timetuple()`\n",
    "- `datetime.strftime()`\n",
    "- `datetime.__format__()`"
   ]
  },
  {
   "cell_type": "code",
   "execution_count": null,
   "metadata": {},
   "outputs": [],
   "source": []
  },
  {
   "cell_type": "markdown",
   "metadata": {},
   "source": [
    "## strftime()与strptime()\n",
    "\n",
    "- `datetime.strftime(fmt)`、`time.strftime(fmt)`与`date.strftime(fmt)`负责根据`fmt`格式，将日期时间对象转换为对应的字符串。\n",
    "- `datetime.strptime(date_string, fmt)`是`datetime`模块中的函数，负责根据`fmt`格式，将字符串`date_string`转换为一个`datetime`对象。\n",
    "\n",
    "`date`、`datetime`与`time`都支持`strftime(format)`方法，用于将时间格式化并转换成一个字符串。\n",
    "\n",
    "`d.strftime(fmt)`功能与`time.strftime(fmt, d.timetuple())`功能相同。\n",
    "\n",
    "`datetime.strptime(date_string, format)`类方法通过一个格式化字符串将一个字符串转换成一个`datetime`对象。\n",
    "\n",
    "|格式化字符串|含义|样例|\n",
    "|-|-|-|\n",
    "|`%a`|星期的简写|`Sun/Mon/.../Sat`|\n",
    "|`%A`|星期的全名|`Sunday/Monday/.../Saturday`|\n",
    "|`%w`|将星期转换为整数|`0,1,...,6`|\n",
    "|`%d`|有前置0的天数|`01,02,03,...,31`|\n",
    "|`%b`|月份的简写|`Jan,Feb,...,Dec`|\n",
    "|`%B`|月份的全名|`January,February,...,December`|\n",
    "|`%m`|有前置0的月份|`01,02,...,12`|\n",
    "|`%y`|有前置0的两位数年份|`00,01,...,99`|\n",
    "|`%Y`|年份|`0000,0001,0002,...,9999`|\n",
    "|`%H`|24小时制的小时数|`00,01,...,23`|\n",
    "|`%I`|12小时制的小时数|`01,...,12`|\n",
    "|`%p`|AM/PM|`AM,PM/am,pm`|\n",
    "|`%M`|有前置0的分钟数|`00,01,...,59`|\n",
    "|`%S`|有前置0的秒钟数|`00,01,...,59`|\n",
    "|`%f`|微秒数|`000000,...,999999`|\n",
    "|`%c`|日期时间|`Tue Aug 16 21:30:00 1988 `|\n",
    "|`%x`|日期|`08/16/88,,08/16/1998,16.08.1998`|\n",
    "|`%X`|时间|`21:30:00`|"
   ]
  },
  {
   "cell_type": "code",
   "execution_count": 40,
   "metadata": {},
   "outputs": [
    {
     "data": {
      "text/plain": [
       "datetime.date(2018, 8, 3)"
      ]
     },
     "execution_count": 40,
     "metadata": {},
     "output_type": "execute_result"
    }
   ],
   "source": [
    "d = date.today()\n",
    "d"
   ]
  },
  {
   "cell_type": "code",
   "execution_count": 41,
   "metadata": {},
   "outputs": [
    {
     "data": {
      "text/plain": [
       "'2018-08-03'"
      ]
     },
     "execution_count": 41,
     "metadata": {},
     "output_type": "execute_result"
    }
   ],
   "source": [
    "d.strftime('%Y-%m-%d')"
   ]
  },
  {
   "cell_type": "code",
   "execution_count": 42,
   "metadata": {},
   "outputs": [
    {
     "data": {
      "text/plain": [
       "'Aug, 2018'"
      ]
     },
     "execution_count": 42,
     "metadata": {},
     "output_type": "execute_result"
    }
   ],
   "source": [
    "d.strftime('%b, %Y')"
   ]
  },
  {
   "cell_type": "code",
   "execution_count": 44,
   "metadata": {},
   "outputs": [
    {
     "data": {
      "text/plain": [
       "'08/03/18'"
      ]
     },
     "execution_count": 44,
     "metadata": {},
     "output_type": "execute_result"
    }
   ],
   "source": [
    "d.strftime('%x')"
   ]
  },
  {
   "cell_type": "code",
   "execution_count": 43,
   "metadata": {},
   "outputs": [
    {
     "data": {
      "text/plain": [
       "'00:00:00'"
      ]
     },
     "execution_count": 43,
     "metadata": {},
     "output_type": "execute_result"
    }
   ],
   "source": [
    "d.strftime('%H:%M:%S')"
   ]
  },
  {
   "cell_type": "code",
   "execution_count": 47,
   "metadata": {},
   "outputs": [
    {
     "data": {
      "text/plain": [
       "datetime.datetime(2018, 8, 3, 13, 37, 11, 618979)"
      ]
     },
     "execution_count": 47,
     "metadata": {},
     "output_type": "execute_result"
    }
   ],
   "source": [
    "current_datetime = datetime.fromtimestamp(time.time())\n",
    "current_datetime"
   ]
  },
  {
   "cell_type": "code",
   "execution_count": 48,
   "metadata": {},
   "outputs": [
    {
     "data": {
      "text/plain": [
       "'Fri Aug  3 13:37:11 2018'"
      ]
     },
     "execution_count": 48,
     "metadata": {},
     "output_type": "execute_result"
    }
   ],
   "source": [
    "current_datetime.strftime('%c')"
   ]
  },
  {
   "cell_type": "code",
   "execution_count": 3,
   "metadata": {},
   "outputs": [
    {
     "data": {
      "text/plain": [
       "datetime.datetime(2018, 10, 10, 0, 0)"
      ]
     },
     "execution_count": 3,
     "metadata": {},
     "output_type": "execute_result"
    }
   ],
   "source": [
    "res = datetime.strptime('2018-10-10', '%Y-%m-%d')\n",
    "res"
   ]
  }
 ],
 "metadata": {
  "kernelspec": {
   "display_name": "Python 3",
   "language": "python",
   "name": "python3"
  },
  "language_info": {
   "codemirror_mode": {
    "name": "ipython",
    "version": 3
   },
   "file_extension": ".py",
   "mimetype": "text/x-python",
   "name": "python",
   "nbconvert_exporter": "python",
   "pygments_lexer": "ipython3",
   "version": "3.5.1"
  }
 },
 "nbformat": 4,
 "nbformat_minor": 2
}
