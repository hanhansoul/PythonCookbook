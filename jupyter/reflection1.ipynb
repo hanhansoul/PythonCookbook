{
 "cells": [
  {
   "cell_type": "markdown",
   "metadata": {},
   "source": [
    "## 属性查找\n",
    "\n",
    "python中对象属性的查找较为复杂，主要与`__getattribute__()`、`__getattr__()`与`__get__()`方法相关。\n",
    "\n",
    "## hasattr()、getattr()与setattr()函数\n",
    "\n",
    "## __getattr__()与__getattribute__()方法\n",
    "\n",
    "py对象将其属性值以键值对的方式存储在`__dict__[]`中。\n",
    "\n",
    "如果某个类定义了`__getattr__()`方法，`__getattr__()`方法只有在没有查找到实例属性时才会被调用。\n",
    "\n",
    "如果某个类定义了`__getattribute__()`方法，在查询实例属性或方法时，无论该实例属性或方法是否存在，都会优先调用`__getattribute__()`方法。\n",
    "\n",
    "为了避免调用`__getattribute__()`时出现无限递归的情况，在自定义的`__getattribute__()`中必须调用`object.__getattribute__(self, key)`或`super().__getattribute__(key)`方法，而不是查询`self.__dict___[key]`。\n",
    "\n",
    "如果在一个类中同时定义了`__getattribute__()`和`__getattr__()`方法，则会首先调用`__getattribute__()`方法。若`__getattribute__()`抛出了一个异常，则该异常会被忽略，同时调用`__getattr__()`方法。"
   ]
  },
  {
   "cell_type": "code",
   "execution_count": null,
   "metadata": {},
   "outputs": [],
   "source": [
    "class Dynamo:\n",
    "    def __getattr__(self, key):\n",
    "        if key == 'color':\n",
    "            return 'PapayaWhip'\n",
    "        else:\n",
    "            raise AttributeError\n",
    "\n",
    "dyn = Dynamo()\n",
    "dyn.color"
   ]
  }
 ],
 "metadata": {
  "kernelspec": {
   "display_name": "Python 3",
   "language": "python",
   "name": "python3"
  },
  "language_info": {
   "codemirror_mode": {
    "name": "ipython",
    "version": 3
   },
   "file_extension": ".py",
   "mimetype": "text/x-python",
   "name": "python",
   "nbconvert_exporter": "python",
   "pygments_lexer": "ipython3",
   "version": "3.6.5"
  }
 },
 "nbformat": 4,
 "nbformat_minor": 2
}
