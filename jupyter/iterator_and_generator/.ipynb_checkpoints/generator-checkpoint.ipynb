{
 "cells": [
  {
   "cell_type": "markdown",
   "metadata": {},
   "source": [
    "# 生成器\n",
    "\n",
    "## yield表达式\n",
    "\n",
    "`yield`用于定义生成器函数或异步生成器函数，`yield`只能用于函数定义中。\n",
    "\n",
    "同样的，函数体中包含`yield`语句的函数即为生成器。\n",
    "\n",
    "当调用一个生成器函数时，它返回一个迭代器，该迭代器即为生成器。该生成器会控制生成器函数的执行。"
   ]
  }
 ],
 "metadata": {
  "kernelspec": {
   "display_name": "Python 3",
   "language": "python",
   "name": "python3"
  },
  "language_info": {
   "codemirror_mode": {
    "name": "ipython",
    "version": 3
   },
   "file_extension": ".py",
   "mimetype": "text/x-python",
   "name": "python",
   "nbconvert_exporter": "python",
   "pygments_lexer": "ipython3",
   "version": "3.5.1"
  }
 },
 "nbformat": 4,
 "nbformat_minor": 2
}
