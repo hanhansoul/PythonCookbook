{
 "cells": [
  {
   "cell_type": "markdown",
   "metadata": {},
   "source": [
    "# 生成器概述\n",
    "\n",
    "https://www.python.org/dev/peps/pep-0255/\n",
    "\n",
    "## 动机\n",
    "\n",
    "实际应用中，我们经常需要使用迭代器来遍历一个可迭代序列，依次取出序列中的元素进行处理。\n",
    "\n",
    "例如，当我们需要依次获取斐波那契数列中各项用于计算时，就可以通过预处理的方式，预先求出数列的若干项并将结果保存在一个`list`中。在计算时利用迭代器，依次获取`list`的各项进行计算。"
   ]
  },
  {
   "cell_type": "code",
   "execution_count": 11,
   "metadata": {},
   "outputs": [
    {
     "data": {
      "text/plain": [
       "[1, 1, 2, 3, 5, 8, 13, 21, 34, 55]"
      ]
     },
     "execution_count": 11,
     "metadata": {},
     "output_type": "execute_result"
    }
   ],
   "source": [
    "fib = [1, 1]\n",
    "n = 10\n",
    "for i in range(2, n):\n",
    "    fib.append(fib[i - 1] + fib[i - 2])\n",
    "fib"
   ]
  },
  {
   "cell_type": "markdown",
   "metadata": {},
   "source": [
    "但是，这种方式存在着许多的问题：\n",
    "\n",
    "1. 可能无法预先知晓究竟需要多少项斐波那契数，因此也就无法确定需要预处理数列前多少项。\n",
    "2. 需要大量的额外空间存储预处理的数据。\n",
    "3. 需要额外的时间做预处理，效率低下。\n",
    "\n",
    "此时，我们需要的是一个类似于生产者一样的角色，负责在每一次迭代中返回一个值用于计算。\n",
    "\n",
    "不同的语言针对这一问题提供了不同的解决方案，而python则提供生成器来实现该功能，示例如下所示："
   ]
  },
  {
   "cell_type": "code",
   "execution_count": 13,
   "metadata": {},
   "outputs": [],
   "source": [
    "def generate_next_fib():\n",
    "    # 生成一个斐波那契数\n",
    "    # ...\n",
    "    pass\n",
    "\n",
    "def main_process():\n",
    "    # ...\n",
    "    fib = generate_next_fib()\n",
    "    # 使用fib进行计算"
   ]
  },
  {
   "cell_type": "markdown",
   "metadata": {},
   "source": [
    "其中，`generate_next_fib()`函数就是一个生成器。\n",
    "\n",
    "生成器可以根据需要，迭代产生一个接一个的满足条件的值。为实现这一功能，就要求生成器能够保存每次迭代之后函数的当前状态，状态。在下一次迭代调用时，函数会恢复所有状态并从当前位置继续执行。\n",
    "\n",
    "生成器提供了一种函数，能够将当前迭代值立即返回给其调用者，但同时保留该函数的本地状态，包括当前局部变量的值、指令指针、内部栈、异常处理以及所有用于函数执行的内容，使得在下一次调用该函数时，能够恢复当前所有状态，并从当前位置继续执行。\n",
    "\n",
    "一个斐波那契数列生成器如下所示："
   ]
  },
  {
   "cell_type": "code",
   "execution_count": null,
   "metadata": {},
   "outputs": [],
   "source": [
    "def generate_fib():\n",
    "    a, b = 0, 1\n",
    "    while 1:\n",
    "        yield b\n",
    "        a, b = b, a + b"
   ]
  },
  {
   "cell_type": "markdown",
   "metadata": {},
   "source": [
    "## yield语句\n",
    "\n",
    "`yield`语句只能在函数中使用。\n",
    "\n",
    "python中，包含`yield`语句的函数被称为生成器函数。\n",
    "\n",
    "当调用生成器函数时，函数形参会绑定相应实参值，但函数中的代码并不会执行，而是返回一个生成器对象，该对象满足**迭代器协议**。事实上，python中的生成器就是一种特殊的、功能强大的迭代器，其使用方式与迭代器相同。\n",
    "\n",
    "每当调用生成器的`next()`方法时，就会执行生成器函数中的代码。当代码执行到`yield`语句、`return`语句或函数末尾时就会结束。\n",
    "\n",
    "当代码执行到`yield <expression>`语句时，当前函数的状态就会被冻结保存，并将`<expression>`的结果返回给函数的调用者。\n",
    "\n",
    "`yield`语句不能出现在`catch`语句或`finally`语句中。\n",
    "\n",
    "运行过程中的生成器函数不能被再次重启，如下所示："
   ]
  },
  {
   "cell_type": "code",
   "execution_count": 18,
   "metadata": {},
   "outputs": [
    {
     "ename": "ValueError",
     "evalue": "generator already executing",
     "output_type": "error",
     "traceback": [
      "\u001b[1;31m---------------------------------------------------------------------------\u001b[0m",
      "\u001b[1;31mValueError\u001b[0m                                Traceback (most recent call last)",
      "\u001b[1;32m<ipython-input-18-bb74be80fdaf>\u001b[0m in \u001b[0;36m<module>\u001b[1;34m()\u001b[0m\n\u001b[0;32m      4\u001b[0m \u001b[1;33m\u001b[0m\u001b[0m\n\u001b[0;32m      5\u001b[0m \u001b[0mme\u001b[0m \u001b[1;33m=\u001b[0m \u001b[0mg\u001b[0m\u001b[1;33m(\u001b[0m\u001b[1;33m)\u001b[0m\u001b[1;33m\u001b[0m\u001b[0m\n\u001b[1;32m----> 6\u001b[1;33m \u001b[0mnext\u001b[0m\u001b[1;33m(\u001b[0m\u001b[0mme\u001b[0m\u001b[1;33m)\u001b[0m\u001b[1;33m\u001b[0m\u001b[0m\n\u001b[0m",
      "\u001b[1;32m<ipython-input-18-bb74be80fdaf>\u001b[0m in \u001b[0;36mg\u001b[1;34m()\u001b[0m\n\u001b[0;32m      1\u001b[0m \u001b[1;32mdef\u001b[0m \u001b[0mg\u001b[0m\u001b[1;33m(\u001b[0m\u001b[1;33m)\u001b[0m\u001b[1;33m:\u001b[0m\u001b[1;33m\u001b[0m\u001b[0m\n\u001b[1;32m----> 2\u001b[1;33m     \u001b[0mi\u001b[0m \u001b[1;33m=\u001b[0m \u001b[0mnext\u001b[0m\u001b[1;33m(\u001b[0m\u001b[0mme\u001b[0m\u001b[1;33m)\u001b[0m\u001b[1;33m\u001b[0m\u001b[0m\n\u001b[0m\u001b[0;32m      3\u001b[0m     \u001b[1;32myield\u001b[0m \u001b[0mi\u001b[0m\u001b[1;33m\u001b[0m\u001b[0m\n\u001b[0;32m      4\u001b[0m \u001b[1;33m\u001b[0m\u001b[0m\n\u001b[0;32m      5\u001b[0m \u001b[0mme\u001b[0m \u001b[1;33m=\u001b[0m \u001b[0mg\u001b[0m\u001b[1;33m(\u001b[0m\u001b[1;33m)\u001b[0m\u001b[1;33m\u001b[0m\u001b[0m\n",
      "\u001b[1;31mValueError\u001b[0m: generator already executing"
     ]
    }
   ],
   "source": [
    "def g():\n",
    "    i = next(me)\n",
    "    yield i\n",
    "\n",
    "me = g()\n",
    "next(me)"
   ]
  },
  {
   "cell_type": "markdown",
   "metadata": {},
   "source": [
    "## return\n",
    "\n",
    "生成器函数中也可以包含`return`语句，但生成器函数中的`return`语句不能够有返回值。\n",
    "\n",
    "当生成器函数执行到`return`语句时，若函数中包含`finally`语句，则执行`finally`语句后抛出`StopIteration`异常，否则直接抛出`StopIteration`异常，表示该生成器的迭代过程已经结束了。\n",
    "\n",
    "生成器函数中的`return`语句并不等价于直接抛出`StopIteration`异常，其区别在于`return`语句直接结束函数，抛出的`StopIteration`不会被`except`捕获；而抛出`StopIteration`时，异常会被`except`捕获。"
   ]
  },
  {
   "cell_type": "code",
   "execution_count": 20,
   "metadata": {},
   "outputs": [
    {
     "name": "stdout",
     "output_type": "stream",
     "text": [
      "[]\n"
     ]
    }
   ],
   "source": [
    "def generator_return():\n",
    "    try:\n",
    "        return\n",
    "    except:\n",
    "        yield 42\n",
    "        \n",
    "print(list(generator_return()))"
   ]
  },
  {
   "cell_type": "code",
   "execution_count": 21,
   "metadata": {},
   "outputs": [
    {
     "name": "stdout",
     "output_type": "stream",
     "text": [
      "[42]\n"
     ]
    }
   ],
   "source": [
    "def generator_raising_StopIteration():\n",
    "    try:\n",
    "        raise StopIteration\n",
    "    except:\n",
    "        yield 42\n",
    "        \n",
    "print(list(generator_raising_StopIteration()))"
   ]
  },
  {
   "cell_type": "markdown",
   "metadata": {},
   "source": [
    "## 生成器与异常的传播\n",
    "\n",
    "// TODO"
   ]
  },
  {
   "cell_type": "markdown",
   "metadata": {},
   "source": [
    "## try/catch/finally\n",
    "\n",
    "// TODO"
   ]
  },
  {
   "cell_type": "code",
   "execution_count": 22,
   "metadata": {},
   "outputs": [
    {
     "name": "stdout",
     "output_type": "stream",
     "text": [
      "[1, 2, 4, 5, 8, 9, 10, 11]\n"
     ]
    }
   ],
   "source": [
    "def generator_exception_handling():\n",
    "    try:\n",
    "        yield 1\n",
    "        try:\n",
    "            yield 2\n",
    "            1/0\n",
    "            yield 3\n",
    "        except ZeroDivisionError:\n",
    "            yield 4\n",
    "            yield 5\n",
    "            raise\n",
    "        except:\n",
    "            yield 6\n",
    "        yield 7\n",
    "    except:\n",
    "        yield 8\n",
    "    yield 9\n",
    "    try:\n",
    "        x = 12\n",
    "    finally:\n",
    "        yield 10\n",
    "    yield 11\n",
    "    \n",
    "print(list(generator_exception_handling()))"
   ]
  }
 ],
 "metadata": {
  "kernelspec": {
   "display_name": "Python 3",
   "language": "python",
   "name": "python3"
  },
  "language_info": {
   "codemirror_mode": {
    "name": "ipython",
    "version": 3
   },
   "file_extension": ".py",
   "mimetype": "text/x-python",
   "name": "python",
   "nbconvert_exporter": "python",
   "pygments_lexer": "ipython3",
   "version": "3.5.1"
  }
 },
 "nbformat": 4,
 "nbformat_minor": 2
}
