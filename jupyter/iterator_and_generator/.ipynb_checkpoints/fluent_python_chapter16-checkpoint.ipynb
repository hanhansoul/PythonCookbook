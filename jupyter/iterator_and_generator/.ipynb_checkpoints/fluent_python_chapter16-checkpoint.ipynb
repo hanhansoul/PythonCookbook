{
 "cells": [
  {
   "cell_type": "markdown",
   "metadata": {},
   "source": [
    "通过`send()`函数可以实现`next()`函数功能，即继续执行协程直到被下一个`yield`语句挂起，同时实现向协程传递参数功能。\n",
    "\n",
    "协程的四种状态，可以通过`inspect.getgeneratorstate()`获得：\n",
    "\n",
    "- GEN_CREATED：已创建，等待启动\n",
    "- GEN_RUNNING：正在执行\n",
    "- GEN_SUSPENDED：由yield挂起\n",
    "- GEN_CLOSE：执行结束\n",
    "\n",
    "协程最初处于GEN_CREATED状态，必须通过调用一次`next()`或`send(None)`才会开始启动，只有在协程处于GEN_SUSPENDED状态时才能通过`send()`向其传递参数，否则会抛出异常。\n",
    "\n",
    "启动协程的过程被称为协程初始化。通过`coroutil.coroutine`装饰器可以实现自动初始化的功能。"
   ]
  },
  {
   "cell_type": "markdown",
   "metadata": {},
   "source": [
    "## 从协程返回值\n",
    "\n",
    "### 通过return语句返回结果\n",
    "\n",
    "现在，协程可以通过return语句返回一个结果。return语句会抛出一个StopIteration异常，其value属性即为返回值。"
   ]
  },
  {
   "cell_type": "code",
   "execution_count": null,
   "metadata": {},
   "outputs": [],
   "source": [
    "from collections import namedtuple\n",
    "\n",
    "Result = namedtuple('Result', 'count average')\n",
    "\n",
    "def averager():\n",
    "    total = 0.0\n",
    "    count = 0\n",
    "    average = None\n",
    "    while True:\n",
    "        term = yield\n",
    "        if term is None:\n",
    "            break\n",
    "        total += term\n",
    "        count += 1\n",
    "        average = total/count\n",
    "    return Result(count, average)"
   ]
  },
  {
   "cell_type": "markdown",
   "metadata": {},
   "source": [
    "### 通过yield from语句返回结果\n",
    "\n",
    "`yield from subgen()`表达式能够将当前协程挂起，同时启动一个子协程，直到子协程返回结果才继续执行。"
   ]
  },
  {
   "cell_type": "code",
   "execution_count": 1,
   "metadata": {},
   "outputs": [
    {
     "data": {
      "text/plain": [
       "['A', 'B', 1, 2]"
      ]
     },
     "execution_count": 1,
     "metadata": {},
     "output_type": "execute_result"
    }
   ],
   "source": [
    "def gen():\n",
    "    for c in 'AB':\n",
    "        yield c\n",
    "    for i in range(1, 3):\n",
    "        yield i\n",
    "\n",
    "list(gen())"
   ]
  },
  {
   "cell_type": "code",
   "execution_count": 2,
   "metadata": {},
   "outputs": [
    {
     "data": {
      "text/plain": [
       "['A', 'B', 1, 2]"
      ]
     },
     "execution_count": 2,
     "metadata": {},
     "output_type": "execute_result"
    }
   ],
   "source": [
    "def gen():\n",
    "    yield from 'AB'\n",
    "    yield from range(1, 3)\n",
    "\n",
    "list(gen())"
   ]
  },
  {
   "cell_type": "code",
   "execution_count": null,
   "metadata": {},
   "outputs": [],
   "source": [
    "def chain(*iterables):\n",
    "    for it in iterables:\n",
    "        yield from it\n",
    "\n",
    "s = 'ABC'\n",
    "t = tuple(range(3))\n",
    "list(chain())"
   ]
  },
  {
   "cell_type": "markdown",
   "metadata": {},
   "source": [
    "`yield from x`表达式首先会调用`iter(x)`获取一个迭代器。\n",
    "\n",
    "`yield from`用于为外部调用者与内部子生成器提供一个双向管道，实现了两者间的数据互相传递，同时不需要对抛出的异常进行额外的处理。"
   ]
  },
  {
   "cell_type": "code",
   "execution_count": 3,
   "metadata": {},
   "outputs": [
    {
     "name": "stdout",
     "output_type": "stream",
     "text": [
      " 9 boys  averaging 40.42kg\n",
      " 9 boys  averaging 1.39m\n",
      "10 girls averaging 42.04kg\n",
      "10 girls averaging 1.43m\n"
     ]
    }
   ],
   "source": [
    "from collections import namedtuple\n",
    "Result = namedtuple('Result', 'count average')\n",
    "\n",
    "# the subgenerator\n",
    "def averager():\n",
    "    total = 0.0\n",
    "    count = 0\n",
    "    average = None\n",
    "    while True:\n",
    "        term = yield\n",
    "        if term is None:\n",
    "            break\n",
    "        total += term\n",
    "        count += 1\n",
    "        average = total/count\n",
    "    return Result(count, average)\n",
    "\n",
    "def grouper(results, key):\n",
    "    while True:\n",
    "        results[key] = yield from averager()\n",
    "        \n",
    "def main(data):\n",
    "    results = {}\n",
    "    for key, values in data.items():\n",
    "        group = grouper(results, key)\n",
    "        next(group)\n",
    "        for value in values:\n",
    "            group.send(value)\n",
    "        group.send(None) # important!\n",
    "        \n",
    "    # print(results) # uncomment to debug\n",
    "    report(results)\n",
    "    \n",
    "def report(results):\n",
    "    for key, result in sorted(results.items()):\n",
    "        group, unit = key.split(';')\n",
    "        print('{:2} {:5} averaging {:.2f}{}'.format(\n",
    "            result.count, group, result.average, unit))\n",
    "\n",
    "data = {\n",
    "    'girls;kg': [40.9, 38.5, 44.3, 42.2, 45.2, 41.7, 44.5, 38.0, 40.6, 44.5],\n",
    "    'girls;m': [1.6, 1.51, 1.4, 1.3, 1.41, 1.39, 1.33, 1.46, 1.45, 1.43],\n",
    "    'boys;kg': [39.0, 40.8, 43.2, 40.8, 43.1, 38.6, 41.4, 40.6, 36.3],\n",
    "    'boys;m': [1.38, 1.5, 1.32, 1.25, 1.37, 1.48, 1.25, 1.49, 1.46],\n",
    "}\n",
    "\n",
    "main(data)"
   ]
  },
  {
   "cell_type": "markdown",
   "metadata": {},
   "source": [
    "1. 调用者：用于调用委托生成器\n",
    "2. 委托生成器：包含`yield from`表达式的生成器函数\n",
    "3. 子生成器：位于`yield from`表达式之后\n",
    "\n",
    "`yield from`表达式的六个性质：\n",
    "\n",
    "1. 子生成器的`yield`表达式返回的值将直接传递给委托生成器的调用者。\n",
    "2. 任何通过`send()`函数传递给委托生成器的值都会直接传递给子生成器，同时调用子生成器的`next()`函数。\n",
    "3. 生成器中的`return expr`语句会抛出`StopIteration(expr)`异常并退出生成器。\n",
    "4. `yield from`表达式返回的值时子生成器终止时抛出`StopIteration`异常的第一个参数。\n",
    "5. // TODO\n",
    "6. // TODO"
   ]
  }
 ],
 "metadata": {
  "kernelspec": {
   "display_name": "Python 3",
   "language": "python",
   "name": "python3"
  },
  "language_info": {
   "codemirror_mode": {
    "name": "ipython",
    "version": 3
   },
   "file_extension": ".py",
   "mimetype": "text/x-python",
   "name": "python",
   "nbconvert_exporter": "python",
   "pygments_lexer": "ipython3",
   "version": "3.5.1"
  }
 },
 "nbformat": 4,
 "nbformat_minor": 2
}
