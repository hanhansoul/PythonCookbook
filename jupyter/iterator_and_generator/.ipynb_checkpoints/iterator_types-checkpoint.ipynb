{
 "cells": [
  {
   "cell_type": "markdown",
   "metadata": {},
   "source": [
    "# 迭代类型\n",
    "\n",
    "python通过提供两个内建方法，为容器提供了迭代功能的支持。\n",
    "\n",
    "`container.__iter__()`方法返回一个迭代器对象，该对象需要支持迭代器协议。\n",
    "\n",
    "## 迭代器协议\n",
    "\n",
    "迭代器需要实现以下两个方法，而实现了这两个方法的对象即满足迭代器协议，可以作为迭代器使用。\n",
    "\n",
    "- `iterator.__iter__()`返回该迭代器本身，该方法使得无论是可迭代容器还是迭代器都可以出现在`for...in`语句中，并完成同样的功能。\n",
    "- `iterator.__next__()`返回容器中的下一项，若已到达最后一项，则抛出`StopIteration`异常。\n",
    "\n",
    "\n",
    "## 生成器类型\n",
    "\n",
    "python的生成器为实现迭代器协议提供了一种方便的方式。\n",
    "\n",
    "若一个容器对象的`__iter__()`方法以生成器方式实现，则其会自动返回一个迭代器对象，该对象自动支持`__iter__()`与`__next__()`方法。\n",
    "\n",
    "# sequence类型\n",
    "\n",
    "python中包含三种基本的sequence类型：\n",
    "\n",
    "- list\n",
    "- tuple\n",
    "- range\n",
    "\n"
   ]
  },
  {
   "cell_type": "markdown",
   "metadata": {},
   "source": [
    "# 生成器\n",
    "\n",
    "\n",
    "## yield表达式\n",
    "\n",
    "`yield`用于定义生成器函数或异步生成器函数，依次`yield`只能用于函数定义中。\n",
    "\n",
    "同样的，函数体中包含`yield`语句的函数即为生成器。\n",
    "\n",
    "当调用一个生成器函数时，它返回一个迭代器，该迭代器即为生成器。该生成器会控制生成器函数的执行。\n",
    "\n",
    "## yield from\n",
    "\n",
    "`yield from <expression>`语句将提供的`<expression>`表达式作为一个子迭代器，该子迭代器缠上的所有值都会被直接传递给当前生成器方法的调用者。\n",
    "\n",
    "`send()`\n",
    "\n",
    "`throw()`\n",
    "\n"
   ]
  }
 ],
 "metadata": {
  "kernelspec": {
   "display_name": "Python 3",
   "language": "python",
   "name": "python3"
  },
  "language_info": {
   "codemirror_mode": {
    "name": "ipython",
    "version": 3
   },
   "file_extension": ".py",
   "mimetype": "text/x-python",
   "name": "python",
   "nbconvert_exporter": "python",
   "pygments_lexer": "ipython3",
   "version": "3.5.1"
  }
 },
 "nbformat": 4,
 "nbformat_minor": 2
}
