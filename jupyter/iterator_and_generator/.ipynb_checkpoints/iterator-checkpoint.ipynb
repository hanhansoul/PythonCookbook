{
 "cells": [
  {
   "cell_type": "markdown",
   "metadata": {},
   "source": [
    "# 迭代类型\n",
    "\n",
    "## 迭代器协议\n",
    "\n",
    "python中的容器都提供了迭代功能，可以通过如`for...in`等语句依次迭代访问容器中的各元素。"
   ]
  },
  {
   "cell_type": "code",
   "execution_count": 34,
   "metadata": {},
   "outputs": [
    {
     "name": "stdout",
     "output_type": "stream",
     "text": [
      "1\n",
      "2\n",
      "3\n",
      "4\n"
     ]
    }
   ],
   "source": [
    "l = [1, 2, 3, 4]\n",
    "for i in l:\n",
    "    print(i)"
   ]
  },
  {
   "cell_type": "markdown",
   "metadata": {},
   "source": [
    "而python中的迭代功能实际上是通过迭代器协议（Iterator Protocol）实现的。迭代器协议主要提供了两个内建方法，而实现了这两个方法的对象即满足迭代器协议，可以实现迭代功能。\n",
    "\n",
    "- `iterator.__iter__()`返回一个迭代器对象，该方法使得无论是可迭代容器还是迭代器都可以出现在`for...in`语句中，并完成同样的功能。要求`__iter__()`方法返回的对象实现`__next__()`方法。通过`iter()`函数，即可以调用迭代器对象的`__iter__()`方法。\n",
    "\n",
    "- `iterator.__next__()`返回容器中的下一项，若已到达最后一项，则抛出`StopIteration`异常。通过`next()`函数，即可调用迭代器对象的`__next__()`方法。\n",
    "\n",
    "类似的，通过`len()`函数，即可调用对象的`__len__()`方法。\n",
    "\n",
    "## `collections.abc`模块\n",
    "\n",
    "python中`collections`模块提供了两个与迭代类型相关的抽象基类，分别为可迭代对象与迭代器提供了接口。\n",
    "\n",
    "- `collections.abc.Iterable`为可迭代对象提供接口，定义了`__iter__()`方法。\n",
    "- `collections.abc.Iterator`为迭代器提供接口，定义了`__iter__()`与`__next__()`方法。\n",
    "\n",
    "可以通过以上两个抽象基类判断一个对象是否为可迭代对象或迭代器对象，即实现了`__iter__()`方法的对象为可迭代对象，而实现了`__iter__()`与`__next__()`方法的对象为迭代器对象。"
   ]
  },
  {
   "cell_type": "code",
   "execution_count": 33,
   "metadata": {},
   "outputs": [],
   "source": [
    "import collections"
   ]
  },
  {
   "cell_type": "code",
   "execution_count": 30,
   "metadata": {},
   "outputs": [
    {
     "data": {
      "text/plain": [
       "False"
      ]
     },
     "execution_count": 30,
     "metadata": {},
     "output_type": "execute_result"
    }
   ],
   "source": [
    "class NonIterable:\n",
    "    pass\n",
    "\n",
    "non_iterable = NonIterable()\n",
    "isinstance(non_iterable, collections.abc.Iterable)"
   ]
  },
  {
   "cell_type": "code",
   "execution_count": 31,
   "metadata": {},
   "outputs": [
    {
     "data": {
      "text/plain": [
       "True"
      ]
     },
     "execution_count": 31,
     "metadata": {},
     "output_type": "execute_result"
    }
   ],
   "source": [
    "class IsIterable:\n",
    "    def __iter__(self):\n",
    "        pass\n",
    "    \n",
    "is_iterable = IsIterable()\n",
    "isinstance(is_iterable, collections.abc.Iterable)"
   ]
  },
  {
   "cell_type": "code",
   "execution_count": 32,
   "metadata": {},
   "outputs": [
    {
     "data": {
      "text/plain": [
       "True"
      ]
     },
     "execution_count": 32,
     "metadata": {},
     "output_type": "execute_result"
    }
   ],
   "source": [
    "class IsIterator:\n",
    "    def __next__(self):\n",
    "        pass\n",
    "    \n",
    "    def __iter__(self):\n",
    "        pass\n",
    "\n",
    "is_iterator = IsIterator()\n",
    "isinstance(is_iterator, collections.abc.Iterator)"
   ]
  },
  {
   "cell_type": "markdown",
   "metadata": {},
   "source": [
    "`isinstance(obj, Iterable)`可以判断对象是否包含`__iter__()`方法，但对于通过`__getitem__()`方法实现迭代的对象无法判断。因此，判断某个对象是否是可迭代对象的唯一可靠方法是通过`iter(obj)`。\n",
    "\n",
    "而根据`collections.abc.Iterable`与`collections.abc.Iterator`两个抽象基类，可以将迭代类型对象分为可迭代对象与迭代器对象两类。\n",
    "\n",
    "## 可迭代对象\n",
    "\n",
    "实现了`__iter__()`方法的对象即为可迭代对象，`__iter__()`方法将返回可迭代对象的一个新的迭代器，`iter(obj)`函数将直接调用`obj.__iter__()`方法。\n",
    "\n",
    "一般的，`tuple`、`list`、`set`、`dict`、`file`、`string`等对象都是可迭代对象。通过`isinstance(obj, Iterable)`可判断对象`obj`是否为可迭代对象。"
   ]
  },
  {
   "cell_type": "code",
   "execution_count": 20,
   "metadata": {},
   "outputs": [
    {
     "data": {
      "text/plain": [
       "True"
      ]
     },
     "execution_count": 20,
     "metadata": {},
     "output_type": "execute_result"
    }
   ],
   "source": [
    "# list对象为可迭代对象\n",
    "isinstance([], collections.Iterable)"
   ]
  },
  {
   "cell_type": "code",
   "execution_count": 22,
   "metadata": {},
   "outputs": [
    {
     "data": {
      "text/plain": [
       "True"
      ]
     },
     "execution_count": 22,
     "metadata": {},
     "output_type": "execute_result"
    }
   ],
   "source": [
    "# dict对象为可迭代对象\n",
    "isinstance({'a': 1, 'b': 2}, collections.Iterable)"
   ]
  },
  {
   "cell_type": "markdown",
   "metadata": {},
   "source": [
    "## 迭代器\n",
    "\n",
    "迭代器对象需要同时实现`__iter__()`与`__next__()`两个方法，\n",
    "\n",
    "- `__next__()`方法返回当前可迭代对象的中的下一项，如果已经没有多余项，则抛出`StopIteration`异常。\n",
    "\n",
    "- `__iter__()`方法返回迭代器对象自身，迭代器对象中的`__iter__()`方法保证可迭代容器对象与迭代器对象都可以在`for...in`语句中使用。\n",
    "\n",
    "Iterator objects also need to implement this method; they are required to return themselves. For more information on iterator objects, see Iterator Types.\n",
    "\n",
    "Python supports a concept of iteration over containers. This is implemented using two distinct methods; these are used to allow user-defined classes to support iteration. Sequences, described below in more detail, always support the iteration methods.\n",
    "\n",
    "One method needs to be defined for container objects to provide iteration support:\n",
    "\n",
    "container.__iter__()\n",
    "Return an iterator object. The object is required to support the iterator protocol described below. If a container supports different types of iteration, additional methods can be provided to specifically request iterators for those iteration types. (An example of an object supporting multiple forms of iteration would be a tree structure which supports both breadth-first and depth-first traversal.) This method corresponds to the tp_iter slot of the type structure for Python objects in the Python/C API.\n",
    "\n",
    "\n",
    "Python defines several iterator objects to support iteration over general and specific sequence types, dictionaries, and other more specialized forms. The specific types are not important beyond their implementation of the iterator protocol.\n"
   ]
  },
  {
   "cell_type": "markdown",
   "metadata": {},
   "source": [
    "python为不同的可迭代容器对象提供了不同类型的迭代器对象，这些不同类型的迭代器对象都满足迭代器协议。\n",
    "\n",
    "通过`type()`函数可以返回对象的类型，可以发现不同的可迭代对象的迭代器类型是不同的。"
   ]
  },
  {
   "cell_type": "code",
   "execution_count": 23,
   "metadata": {},
   "outputs": [
    {
     "data": {
      "text/plain": [
       "list_iterator"
      ]
     },
     "execution_count": 23,
     "metadata": {},
     "output_type": "execute_result"
    }
   ],
   "source": [
    "l = [1, 2, 3]\n",
    "type(iter(l))"
   ]
  },
  {
   "cell_type": "code",
   "execution_count": 24,
   "metadata": {},
   "outputs": [
    {
     "data": {
      "text/plain": [
       "set_iterator"
      ]
     },
     "execution_count": 24,
     "metadata": {},
     "output_type": "execute_result"
    }
   ],
   "source": [
    "s = {1, 2, 3}\n",
    "type(iter(s))"
   ]
  },
  {
   "cell_type": "code",
   "execution_count": 25,
   "metadata": {},
   "outputs": [
    {
     "data": {
      "text/plain": [
       "dict_keyiterator"
      ]
     },
     "execution_count": 25,
     "metadata": {},
     "output_type": "execute_result"
    }
   ],
   "source": [
    "d = {'a': 1, 'b': 2}\n",
    "type(iter(d))"
   ]
  },
  {
   "cell_type": "code",
   "execution_count": 26,
   "metadata": {},
   "outputs": [
    {
     "data": {
      "text/plain": [
       "str_iterator"
      ]
     },
     "execution_count": 26,
     "metadata": {},
     "output_type": "execute_result"
    }
   ],
   "source": [
    "ss = 'abcdefg'\n",
    "type(iter(ss))"
   ]
  },
  {
   "cell_type": "markdown",
   "metadata": {},
   "source": [
    "## 生成器类型的迭代器\n",
    "\n",
    "python的生成器为实现迭代器协议提供了一种方便的方式。\n",
    "\n",
    "若一个容器对象的`__iter__()`方法以生成器方式实现，则其会自动返回一个迭代器对象，该对象自动支持`__iter__()`与`__next__()`方法。"
   ]
  },
  {
   "cell_type": "code",
   "execution_count": null,
   "metadata": {},
   "outputs": [],
   "source": []
  }
 ],
 "metadata": {
  "kernelspec": {
   "display_name": "Python 3",
   "language": "python",
   "name": "python3"
  },
  "language_info": {
   "codemirror_mode": {
    "name": "ipython",
    "version": 3
   },
   "file_extension": ".py",
   "mimetype": "text/x-python",
   "name": "python",
   "nbconvert_exporter": "python",
   "pygments_lexer": "ipython3",
   "version": "3.5.1"
  }
 },
 "nbformat": 4,
 "nbformat_minor": 2
}
