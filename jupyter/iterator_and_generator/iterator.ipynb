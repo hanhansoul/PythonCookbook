{
 "cells": [
  {
   "cell_type": "markdown",
   "metadata": {},
   "source": [
    "# 迭代类型\n",
    "\n",
    "## 迭代器协议\n",
    "\n",
    "python中的容器都具有迭代功能，可以依次迭代访问容器中的各元素，如下所示："
   ]
  },
  {
   "cell_type": "code",
   "execution_count": 34,
   "metadata": {},
   "outputs": [
    {
     "name": "stdout",
     "output_type": "stream",
     "text": [
      "1\n",
      "2\n",
      "3\n",
      "4\n"
     ]
    }
   ],
   "source": [
    "l = [1, 2, 3, 4]\n",
    "for i in l:\n",
    "    print(i)"
   ]
  },
  {
   "cell_type": "markdown",
   "metadata": {},
   "source": [
    "python中，迭代功能实际上是通过迭代器协议（Iterator Protocol）实现的。迭代器协议主要提供了两个内建方法，实现了这两个方法的类即满足迭代器协议。\n",
    "\n",
    "- `__iter__()`返回一个迭代器对象，该方法返回的对象都实现了`__next__()`方法。通过`iter()`函数，即可以调用迭代器对象的`__iter__()`方法。\n",
    "\n",
    "- `__next__()`返回容器中的下一项，若已到达最后一项，则抛出`StopIteration`异常。通过`next()`函数，即可调用迭代器对象的`__next__()`方法。\n",
    "\n",
    "类似的，通过`len()`函数，即可调用对象的`__len__()`方法。\n",
    "\n",
    "python中，容器对象都需要实现`__iter__()`方法来提供迭代功能。\n",
    "\n",
    "`container.__iter__()`返回一个迭代器对象，而该对象需要满足迭代器协议，即返回的对象需要实现`__iter__()`与`__next__()`方法。"
   ]
  },
  {
   "cell_type": "markdown",
   "metadata": {},
   "source": [
    "## `collections.abc.Iterable`与`collections.abc.Iterator`\n",
    "\n",
    "python中`collections`模块提供了两个与迭代类型相关的抽象基类，分别为可迭代对象与迭代器对象提供了接口。\n",
    "\n",
    "- `collections.abc.Iterable`为可迭代对象提供接口，定义了`__iter__()`方法。\n",
    "- `collections.abc.Iterator`为迭代器提供接口，定义了`__iter__()`与`__next__()`方法。\n",
    "\n",
    "可以通过`isinstance()`判断一个对象是否为可迭代对象或迭代器对象，即实现了`__iter__()`方法的对象为可迭代对象，而实现了`__iter__()`与`__next__()`方法的对象为迭代器对象。"
   ]
  },
  {
   "cell_type": "code",
   "execution_count": 2,
   "metadata": {},
   "outputs": [],
   "source": [
    "import collections"
   ]
  },
  {
   "cell_type": "code",
   "execution_count": 30,
   "metadata": {},
   "outputs": [
    {
     "data": {
      "text/plain": [
       "False"
      ]
     },
     "execution_count": 30,
     "metadata": {},
     "output_type": "execute_result"
    }
   ],
   "source": [
    "class NonIterable:\n",
    "    pass\n",
    "\n",
    "non_iterable = NonIterable()\n",
    "isinstance(non_iterable, collections.abc.Iterable)"
   ]
  },
  {
   "cell_type": "code",
   "execution_count": 31,
   "metadata": {},
   "outputs": [
    {
     "data": {
      "text/plain": [
       "True"
      ]
     },
     "execution_count": 31,
     "metadata": {},
     "output_type": "execute_result"
    }
   ],
   "source": [
    "class IsIterable:\n",
    "    def __iter__(self):\n",
    "        pass\n",
    "    \n",
    "is_iterable = IsIterable()\n",
    "isinstance(is_iterable, collections.abc.Iterable)"
   ]
  },
  {
   "cell_type": "code",
   "execution_count": 32,
   "metadata": {},
   "outputs": [
    {
     "data": {
      "text/plain": [
       "True"
      ]
     },
     "execution_count": 32,
     "metadata": {},
     "output_type": "execute_result"
    }
   ],
   "source": [
    "class IsIterator:\n",
    "    def __next__(self):\n",
    "        pass\n",
    "    \n",
    "    def __iter__(self):\n",
    "        pass\n",
    "\n",
    "is_iterator = IsIterator()\n",
    "isinstance(is_iterator, collections.abc.Iterator)"
   ]
  },
  {
   "cell_type": "markdown",
   "metadata": {},
   "source": [
    "`isinstance(obj, Iterable)`可以判断对象是否包含`__iter__()`方法，但对于通过`__getitem__()`方法实现迭代的对象无法判断。因此，判断某个对象是否是可迭代对象的唯一可靠方法是通过`iter(obj)`。\n",
    "\n",
    "根据`collections.abc.Iterable`与`collections.abc.Iterator`两个抽象基类，可以看出可迭代对象与迭代器对象的区别在于，可迭代对象要求实现`__iter__()`方法，而迭代器对象要求实现`__iter__()`与`__next__()`方法。\n",
    "\n",
    "||`__iter__()`|`__next__()`|\n",
    "|-|-|-|\n",
    "|可迭代对象|返回一个迭代器对象|无|\n",
    "|迭代器对象|返回迭代器本身，即`self`|返回迭代中的下一项|\n",
    "\n",
    "## 可迭代对象\n",
    "\n",
    "python中，`tuple`、`list`、`set`、`dict`、`file`、`string`等对象都是可迭代对象。\n",
    "\n",
    "一般而言，可迭代对象需要实现了`__iter__()`方法。通过`iter(obj)`方法可以返回一个新的迭代器对象，而`iter(obj)`函数直接调用`obj.__iter__()`方法。\n",
    "\n",
    "简而言之，凡是可以通过`iter()`函数返回一个迭代器的对象都是可迭代对象。\n",
    "\n",
    "通过`isinstance(obj, Iterable)`可判断对象`obj`是否为可迭代对象。"
   ]
  },
  {
   "cell_type": "code",
   "execution_count": 20,
   "metadata": {},
   "outputs": [
    {
     "data": {
      "text/plain": [
       "True"
      ]
     },
     "execution_count": 20,
     "metadata": {},
     "output_type": "execute_result"
    }
   ],
   "source": [
    "# list对象为可迭代对象\n",
    "isinstance([], collections.Iterable)"
   ]
  },
  {
   "cell_type": "code",
   "execution_count": 22,
   "metadata": {},
   "outputs": [
    {
     "data": {
      "text/plain": [
       "True"
      ]
     },
     "execution_count": 22,
     "metadata": {},
     "output_type": "execute_result"
    }
   ],
   "source": [
    "# dict对象为可迭代对象\n",
    "isinstance({'a': 1, 'b': 2}, collections.Iterable)"
   ]
  },
  {
   "cell_type": "code",
   "execution_count": 3,
   "metadata": {},
   "outputs": [
    {
     "data": {
      "text/plain": [
       "True"
      ]
     },
     "execution_count": 3,
     "metadata": {},
     "output_type": "execute_result"
    }
   ],
   "source": [
    "# dict对象为可迭代对象\n",
    "isinstance({'a': 1, 'b': 2}, collections.Iterable)"
   ]
  },
  {
   "cell_type": "markdown",
   "metadata": {},
   "source": [
    "## 迭代器\n",
    "\n",
    "迭代器对象需要同时实现`__iter__()`与`__next__()`两个方法，\n",
    "\n",
    "在迭代器对象中，`__iter__()`方法返回是迭代器对象自身。这样的设计思路，保证了可迭代对象与迭代器对象都可以用于在如`for...in`等语句进行迭代访问。\n",
    "\n",
    "python为不同的可迭代容器对象提供了不同类型的迭代器对象，而这些不同类型的迭代器对象都满足迭代器协议。\n",
    "\n",
    "通过`type()`函数可以返回对象的类型，可以发现不同的可迭代对象的迭代器类型是不同的。"
   ]
  },
  {
   "cell_type": "code",
   "execution_count": 23,
   "metadata": {},
   "outputs": [
    {
     "data": {
      "text/plain": [
       "list_iterator"
      ]
     },
     "execution_count": 23,
     "metadata": {},
     "output_type": "execute_result"
    }
   ],
   "source": [
    "l = [1, 2, 3]\n",
    "type(iter(l))"
   ]
  },
  {
   "cell_type": "code",
   "execution_count": 24,
   "metadata": {},
   "outputs": [
    {
     "data": {
      "text/plain": [
       "set_iterator"
      ]
     },
     "execution_count": 24,
     "metadata": {},
     "output_type": "execute_result"
    }
   ],
   "source": [
    "s = {1, 2, 3}\n",
    "type(iter(s))"
   ]
  },
  {
   "cell_type": "code",
   "execution_count": 25,
   "metadata": {},
   "outputs": [
    {
     "data": {
      "text/plain": [
       "dict_keyiterator"
      ]
     },
     "execution_count": 25,
     "metadata": {},
     "output_type": "execute_result"
    }
   ],
   "source": [
    "d = {'a': 1, 'b': 2}\n",
    "type(iter(d))"
   ]
  },
  {
   "cell_type": "code",
   "execution_count": 26,
   "metadata": {},
   "outputs": [
    {
     "data": {
      "text/plain": [
       "str_iterator"
      ]
     },
     "execution_count": 26,
     "metadata": {},
     "output_type": "execute_result"
    }
   ],
   "source": [
    "ss = 'abcdefg'\n",
    "type(iter(ss))"
   ]
  },
  {
   "cell_type": "markdown",
   "metadata": {},
   "source": [
    "## 自定义可迭代对象\n",
    "\n",
    "通过迭代器协议，我们可以自定义满足迭代功能的容器对象。"
   ]
  },
  {
   "cell_type": "code",
   "execution_count": 4,
   "metadata": {},
   "outputs": [
    {
     "name": "stdout",
     "output_type": "stream",
     "text": [
      "0\n",
      "1\n",
      "2\n",
      "3\n",
      "4\n"
     ]
    }
   ],
   "source": [
    "class CustomedIterator:\n",
    "    def __init__(self, container):\n",
    "        self.container = container\n",
    "        self.current_index = 0\n",
    "    \n",
    "    def __next__(self):\n",
    "        if self.current_index < len(self.container):\n",
    "            self.current_index += 1\n",
    "            return self.container[self.current_index - 1]\n",
    "        else:\n",
    "            raise StopIteration\n",
    "    \n",
    "    def __iter__(self):\n",
    "        return self\n",
    "        \n",
    "\n",
    "class CustomedList:\n",
    "    def __init__(self):\n",
    "        self.container = []\n",
    "        \n",
    "    def __iter__(self):\n",
    "        return CustomedIterator(self.container)\n",
    "    \n",
    "    def add(self, value):\n",
    "        self.container.append(value)\n",
    "    \n",
    "my_container = CustomedList()\n",
    "\n",
    "for x in range(5):\n",
    "    my_container.add(x)\n",
    "\n",
    "for x in my_container:\n",
    "    print(x)"
   ]
  },
  {
   "cell_type": "markdown",
   "metadata": {},
   "source": [
    "定义了一个可迭代类型的容器`CustomedList`，实现了`__iter__()`方法，同时定义了一个迭代器对象`CustomedIterator`，实现了`__iter__()`与`__next__()`方法。\n",
    "\n",
    "但是这种方式在实际应用中过于臃肿，因此并不常用。通常自定义的容器对象与其迭代器对象可以合二为一，同时定义`__iter__()`与`__next__()`方法，即对象既是可迭代容器对象，也是迭代器对象。其中`__iter__()`方法返回的是`self`，即对象自身。"
   ]
  },
  {
   "cell_type": "code",
   "execution_count": 5,
   "metadata": {},
   "outputs": [
    {
     "name": "stdout",
     "output_type": "stream",
     "text": [
      "0\n",
      "1\n",
      "2\n",
      "3\n",
      "4\n"
     ]
    }
   ],
   "source": [
    "class NewCustomedList:\n",
    "    def __init__(self):\n",
    "        self.container = []\n",
    "        self.current_index = 0\n",
    "        \n",
    "    def __next__(self):\n",
    "        if self.current_index < len(self.container):\n",
    "            self.current_index += 1\n",
    "            return self.container[self.current_index - 1]\n",
    "        else:\n",
    "            raise StopIteration\n",
    "            \n",
    "    def __iter__(self):\n",
    "        return self\n",
    "    \n",
    "    def add(self, value):\n",
    "        self.container.append(value)\n",
    "        \n",
    "my_container = NewCustomedList()\n",
    "\n",
    "for x in range(5):\n",
    "    my_container.add(x)\n",
    "\n",
    "for x in my_container:\n",
    "    print(x)"
   ]
  },
  {
   "cell_type": "markdown",
   "metadata": {},
   "source": [
    "在以上的示例中，我们还可以通过`iter()`与`next()`函数，直接利用`list`类型的可迭代性实现容器。"
   ]
  },
  {
   "cell_type": "code",
   "execution_count": 6,
   "metadata": {},
   "outputs": [
    {
     "name": "stdout",
     "output_type": "stream",
     "text": [
      "0\n",
      "1\n",
      "2\n",
      "3\n",
      "4\n"
     ]
    }
   ],
   "source": [
    "class SimpleCustomedList:\n",
    "    def __init__(self):\n",
    "        self.container = []\n",
    "        \n",
    "    def __next__(self):\n",
    "        return next(self.container)\n",
    "    \n",
    "    def __iter__(self):\n",
    "        return iter(self.container)\n",
    "    \n",
    "    def add(self, value):\n",
    "        self.container.append(value)\n",
    "        \n",
    "my_container = SimpleCustomedList()\n",
    "\n",
    "for x in range(5):\n",
    "    my_container.add(x)\n",
    "\n",
    "for x in my_container:\n",
    "    print(x)"
   ]
  }
 ],
 "metadata": {
  "kernelspec": {
   "display_name": "Python 3",
   "language": "python",
   "name": "python3"
  },
  "language_info": {
   "codemirror_mode": {
    "name": "ipython",
    "version": 3
   },
   "file_extension": ".py",
   "mimetype": "text/x-python",
   "name": "python",
   "nbconvert_exporter": "python",
   "pygments_lexer": "ipython3",
   "version": "3.6.5"
  }
 },
 "nbformat": 4,
 "nbformat_minor": 2
}
