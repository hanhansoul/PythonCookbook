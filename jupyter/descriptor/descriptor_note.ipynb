{
 "cells": [
  {
   "cell_type": "markdown",
   "metadata": {},
   "source": [
    "https://docs.python.org/3/howto/descriptor.html#descriptor-example"
   ]
  },
  {
   "cell_type": "markdown",
   "metadata": {},
   "source": [
    "# 描述符\n",
    "\n",
    "## 简介\n",
    "\n",
    "描述符指的是对象的一个属性，对此对象的该属性的访问需要通过重写了的给定方法，类似于`setter()`与`getter()`方法，这些方法包括`__get__()`、`__set__()`与`__delete__()`，而重写了其中任意一种方法的对象即为描述符。\n",
    "\n",
    "描述符是一种功能强大、应用广泛的接口方式，是实现`property`、静态方法、类方法以及`super()`函数等功能的基础。\n",
    "\n",
    "\n",
    "## 描述符协议\n",
    "\n",
    "    descr.__get__(self, obj, type=None) --> value\n",
    "\n",
    "    descr.__set__(self, obj, value) --> None\n",
    "\n",
    "    descr.__delete__(self, obj) --> None\n",
    "\n",
    "重写了以上任意方法的描述符一般可作为对象的一个属性，同时通过重写了的方法访问该属性。\n",
    "\n",
    "如果一个描述符同时重写了`__get__()`和`__set__()`方法，则被称为数据型描述符。\n",
    "\n",
    "如果一个描述符只重写了`__get__()`方法，则被称为非数据型描述符。\n",
    "\n",
    "数据型描述符与非数据型描述符的区别体现在，对于对象`__dict__`中包含的与描述符同名的属性名，访问对象属性时所调用的属性访问函数的优先级。对于访问同名的属性，数据型描述符优先级高于`__dict__`，而`__dict__`优先级高于非数据型描述符。\n",
    "\n",
    "同时定义`__get__()`与`__set__()`方法，同时令`__set__()`方法抛出异常，则能够实现一个只读的数据型描述符。\n",
    "\n",
    "**描述符的实例一定是类属性，而不是对象属性。**\n",
    "\n",
    "## 描述符调用\n",
    "\n",
    "我们可以直接通过`d.__get__(obj)`显式访问对象的描述符，但更常见的方式是通过`obj.d`隐式访问对象的描述符。\n",
    "\n",
    "描述符的调用方式取决于`obj`是一个对象还是一个类。\n",
    "\n",
    "当`b`为对象时，`object.__getattribute__()`会将`b.x`转换为`type(b).__dict__['x'].__get__(b, type(b))`。\n",
    "\n",
    "当`B`为类时，`type.__getattribute__()`会将`B.x`转换为`B.__dict__['x'].__get__(None, B)`。\n",
    "\n",
    "这属性访问机制遵循一个访问优先级策略，即数据型描述符的优先级高于实例变量，而实例变量的优先级又高于非数据型描述符，同时`__getattr__()`的优先级最低。\n",
    "\n",
    "`__getattribute__()`方法实现原理如下。"
   ]
  },
  {
   "cell_type": "code",
   "execution_count": null,
   "metadata": {},
   "outputs": [],
   "source": [
    "def __getattribute__(self, key):\n",
    "    v = object.__getattribute__(self, key)\n",
    "    if hasattr(v, '__get__'):\n",
    "        return v.__get__(None, self)\n",
    "    return v"
   ]
  },
  {
   "cell_type": "markdown",
   "metadata": {},
   "source": [
    "- 描述符通过`__getattribute__()`方法调用\n",
    "- 重写`__getattribute__()`方法将阻止自发的描述符调用\n",
    "- `object.__getattribute__()`与`type.__getattribute__()`对`__get__()`的调用方式是不同的\n",
    "- 数据型描述符优先级高于实例字典访问，而实例字典访问优先级又高于非数据型描述符\n",
    "\n",
    "`super()`函数返回的对象也具有一个用于调用描述符的`__getattribute__()`方法，`super(B, obj).m()`将返回`A.__dict__['m'].__get__(obj, B)`，其中`A`是`B`在mro中的直接父类。\n",
    "\n",
    "\n",
    "\n",
    "描述符通常用于改变默认的属性访问方式，需要注意的是**描述符的实例一定是类属性，而不是对象属性**。\n",
    "\n",
    "`descriptor.__get__(self, obj, type=None)`，`descriptor.__set__(self, obj, value)`与`descriptor.__delete__(self, obj)`中的参数`obj`为实例对象，而参数`type`为类。\n",
    "\n",
    "### 描述符实例"
   ]
  },
  {
   "cell_type": "code",
   "execution_count": 1,
   "metadata": {},
   "outputs": [],
   "source": [
    "class Desriptor:\n",
    "    def __init__(self, value):\n",
    "        self.value = value\n",
    "    \n",
    "    def __get__(self, instance, owner):\n",
    "        print('__get__() is called.', instance, owner)\n",
    "        return self.value\n",
    "    \n",
    "    def __set__(self, instance, value):\n",
    "        print('__set__() is called.', instance, value)\n",
    "        self.value = value\n",
    "        \n",
    "    def __delete__(self, instance):\n",
    "        print('__delete__() is called.', instance)\n",
    "\n",
    "class Widget:\n",
    "    d = Desriptor(10)\n",
    "    \n",
    "w = Widget()"
   ]
  },
  {
   "cell_type": "code",
   "execution_count": 2,
   "metadata": {},
   "outputs": [
    {
     "name": "stdout",
     "output_type": "stream",
     "text": [
      "__set__() is called. <__main__.Widget object at 0x031AB1D0> 1\n"
     ]
    }
   ],
   "source": [
    "# __set__()\n",
    "w.d = 1"
   ]
  },
  {
   "cell_type": "code",
   "execution_count": 3,
   "metadata": {},
   "outputs": [
    {
     "name": "stdout",
     "output_type": "stream",
     "text": [
      "__get__() is called. <__main__.Widget object at 0x031AB1D0> <class '__main__.Widget'>\n"
     ]
    },
    {
     "data": {
      "text/plain": [
       "1"
      ]
     },
     "execution_count": 3,
     "metadata": {},
     "output_type": "execute_result"
    }
   ],
   "source": [
    "# __get__()\n",
    "w.d"
   ]
  },
  {
   "cell_type": "code",
   "execution_count": 4,
   "metadata": {},
   "outputs": [
    {
     "name": "stdout",
     "output_type": "stream",
     "text": [
      "__get__() is called. None <class '__main__.Widget'>\n"
     ]
    },
    {
     "data": {
      "text/plain": [
       "1"
      ]
     },
     "execution_count": 4,
     "metadata": {},
     "output_type": "execute_result"
    }
   ],
   "source": [
    "# __get__()\n",
    "Widget.d"
   ]
  },
  {
   "cell_type": "markdown",
   "metadata": {},
   "source": [
    "此时`w.d`会通过`__getattribute__()`方法被转换为`__get__(d, w, Widget)`，而`Widget.d`会通过`__getattribute__()`方法被转换为`__get__(d, None, Widget)`。"
   ]
  },
  {
   "cell_type": "code",
   "execution_count": 5,
   "metadata": {},
   "outputs": [
    {
     "name": "stdout",
     "output_type": "stream",
     "text": [
      "__delete__() is called. <__main__.Widget object at 0x031AB1D0>\n"
     ]
    }
   ],
   "source": [
    "# __delete__()\n",
    "del w.d"
   ]
  },
  {
   "cell_type": "markdown",
   "metadata": {},
   "source": [
    "### 描述符应用场景\n",
    "\n",
    "property就是基于数据型描述符实现的。但与描述符相比，property不具有复用性，对于同一种类型的属性，在每一类中都需要提供重复的property方法定义。\n",
    "\n"
   ]
  },
  {
   "cell_type": "markdown",
   "metadata": {},
   "source": [
    "## property\n",
    "\n",
    "`property()`函数是一种创建数据型描述符的简单方式，返回一个property属性。\n",
    "\n",
    "    property(fget=None, fset=None, fdel=None, doc=None)"
   ]
  },
  {
   "cell_type": "code",
   "execution_count": null,
   "metadata": {},
   "outputs": [],
   "source": [
    "class C:\n",
    "    def getx(self):\n",
    "        return self.__x\n",
    "    \n",
    "    def setx(self, value):\n",
    "        self.__x = value\n",
    "        \n",
    "    def delx(self):\n",
    "        del self.__x\n",
    "        \n",
    "    x = property(getx, setx, delx, \"x prorpety\")"
   ]
  },
  {
   "cell_type": "markdown",
   "metadata": {},
   "source": [
    "`property()`函数的本质是将property属性变量封装在一个描述符中，分别在由`__get__()`、`__set__()`与`__delete__()`函数中调用`fget`、`fset`与`fdel`函数。"
   ]
  },
  {
   "cell_type": "markdown",
   "metadata": {},
   "source": [
    "## python cookbook chapter 8.8"
   ]
  },
  {
   "cell_type": "code",
   "execution_count": 40,
   "metadata": {},
   "outputs": [
    {
     "name": "stdout",
     "output_type": "stream",
     "text": [
      "Person setting name.\n",
      "Person getting name.\n",
      "p.name ==>  abc\n",
      "Person.name ==>  <property object at 0x0345B4E0>\n",
      "p._name ==>  abc\n"
     ]
    }
   ],
   "source": [
    "class Person:\n",
    "    def __init__(self, name):\n",
    "        # 在执行self.name = name时即调用property.setter方法\n",
    "        self.name = name\n",
    "        \n",
    "    @property\n",
    "    def name(self):\n",
    "        print(\"Person getting name.\")\n",
    "        return self._name\n",
    "    \n",
    "    @name.setter\n",
    "    def name(self, value):\n",
    "        print(\"Person setting name.\")\n",
    "        if not isinstance(value, str):\n",
    "            raise TypeError('Expected a string')\n",
    "        # name属性的值实际上是存储在_name属性中\n",
    "        self._name = value\n",
    "        \n",
    "    @name.deleter\n",
    "    def name(self):\n",
    "        print(\"Person deleting name.\")\n",
    "        raise AttributeError(\"Can't delete attribute\")\n",
    "        \n",
    "p = Person('abc')\n",
    "print('p.name ==> ', p.name)\n",
    "print('Person.name ==> ', Person.name)\n",
    "print('p._name ==> ', p._name)"
   ]
  },
  {
   "cell_type": "code",
   "execution_count": 39,
   "metadata": {},
   "outputs": [
    {
     "name": "stdout",
     "output_type": "stream",
     "text": [
      "SubPerson setting name.\n",
      "Person setting name.\n",
      "super(SubPerson, SubPerson).name ==>  <property object at 0x0345BD20>\n",
      "Person getting name.\n",
      "super(SubPerson, s).name ==>  a\n"
     ]
    }
   ],
   "source": [
    "'''\n",
    "super(SubPerson, SubPerson)返回的是Person类。\n",
    "super(SubPerson, self)返回的是一个Person实例。\n",
    "property本质是一个描述符，而描述符只能是类属性，而不是实例属性，因此name属性只能\n",
    "通过Person类访问。\n",
    "'''\n",
    "class SubPerson(Person):\n",
    "    @property\n",
    "    def name(self):\n",
    "        print('SubPerson getting name.')\n",
    "        return super().name\n",
    "    \n",
    "    @name.setter\n",
    "    def name(self, value):\n",
    "        print('SubPerson setting name.')\n",
    "        super(SubPerson, SubPerson).name.__set__(self, value)\n",
    "        \n",
    "    @name.deleter\n",
    "    def name(self):\n",
    "        print('SubPerson deleting name.')\n",
    "        super(SubPerson, SubPerson).name.__delete__(self)\n",
    "        \n",
    "s = SubPerson('a')\n",
    "print('super(SubPerson, SubPerson).name ==> ', super(SubPerson, SubPerson).name)\n",
    "print('super(SubPerson, s).name ==> ', super(SubPerson, s).name)"
   ]
  }
 ],
 "metadata": {
  "kernelspec": {
   "display_name": "Python 3",
   "language": "python",
   "name": "python3"
  },
  "language_info": {
   "codemirror_mode": {
    "name": "ipython",
    "version": 3
   },
   "file_extension": ".py",
   "mimetype": "text/x-python",
   "name": "python",
   "nbconvert_exporter": "python",
   "pygments_lexer": "ipython3",
   "version": "3.6.5"
  }
 },
 "nbformat": 4,
 "nbformat_minor": 2
}
