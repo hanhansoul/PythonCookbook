{
 "cells": [
  {
   "cell_type": "markdown",
   "metadata": {},
   "source": [
    "http://www.cnblogs.com/xybaby/p/6270551.html\n",
    "\n",
    "## 实例属性\n",
    "\n",
    "若`obj`是一个对象实例，在访问`obj.name`时，首先调用的是`__getattribute__()`方法，如果类定义了`__getattr__()`方法，那么在`__getattribute__()`抛出`AttributeError`异常时，就会调用`__getattr__()`方法。\n",
    "\n",
    "若类中定义了描述符，则`__getattribute__()`方法会根据一定的属性查找顺序调用描述符的`__get__()`方法。\n",
    "\n",
    "对于所有未出现在类或实例的`__dict__`中的属性查找，python都将调用`__getattr__()`。\n",
    "\n",
    "对于实例`obj = Clazz()`，属性`obj.name`的查找顺序如下：\n",
    "\n",
    "1. 如果`name`出现在类`Clazz`或其基类的`__dict__`中，且`name`为数据型描述符，直接调用其`__get__()`方法，否则转2。\n",
    "2. 如果`name`出现在实例`obj`的`__dict__`中，那么直接返回`obj.__dict__['name']`，否则转3。\n",
    "3. 如果`name`出现在类`Clazz`或其基类的`__dict__`中：\n",
    "    1. `name`为非数据型描述符，则调用其`__get__()`方法，否则转B。\n",
    "    2. 返回`__dict__['attr']`。\n",
    "4. 如果`name`既没有出现在类`Clazz`的`__dict__`，也没有出现在实例`obj`的`__dict__`中，此时若`Clazz`定义了`__getattr__()`方法，则调用该方法，否则转5。\n",
    "5. 抛出`AttributeError`异常。\n",
    "\n",
    "以上属性查找顺序，即可确保属性访问的优先级满足：数据型描述符 &gt; 实例属性 &gt; 非数据型描述符 &gt; 一般类属性 &gt; `__getattr__()`方法。"
   ]
  },
  {
   "cell_type": "code",
   "execution_count": 3,
   "metadata": {},
   "outputs": [],
   "source": [
    "class DataDescriptor:    \n",
    "    def __init__(self, value):\n",
    "        self.value = value\n",
    "    \n",
    "    def __get__(self, instance, owner):\n",
    "#         print('data descriptor __get__() is called.', instance, owner)\n",
    "        return self.value\n",
    "    \n",
    "    def __set__(self, instance, value):\n",
    "#         print('data descriptor __set__() is called.', instance, value)\n",
    "        self.value = value\n",
    "        \n",
    "class NonDataDescriptor:    \n",
    "    def __init__(self, value):\n",
    "        self.value = value\n",
    "    \n",
    "    def __get__(self, instance, owner):\n",
    "#         print('non-data descriptor __get__() is called.', instance, owner)\n",
    "        return self.value\n",
    "\n",
    "# 对于不同的属性对应的属性查找顺序编号\n",
    "class DemoClazz:\n",
    "    # (1)\n",
    "    data_descriptor = DataDescriptor('data_descriptor')    \n",
    "    # (3.A)\n",
    "    non_data_descriptor = NonDataDescriptor('non_data_descriptor')  \n",
    "    # (3.B)\n",
    "    class_attribute = 'this is a class attribute.'\n",
    "    \n",
    "    def __init__(self):\n",
    "        # (2)\n",
    "        self.instance_attribute = 'instance_attribute'\n",
    "        \n",
    "    #(4)\n",
    "    def __getattr__(self, key):\n",
    "        return '__getattr__(%s)' % key\n",
    "    "
   ]
  },
  {
   "cell_type": "markdown",
   "metadata": {},
   "source": [
    "实例属性查找实例演示如下。"
   ]
  },
  {
   "cell_type": "code",
   "execution_count": 6,
   "metadata": {},
   "outputs": [
    {
     "name": "stdout",
     "output_type": "stream",
     "text": [
      "data_descriptor\n",
      "non_data_descriptor\n",
      "this is an instance attribute.\n",
      "instance_attribute\n",
      "# after attr renew.\n",
      "data_descriptor\n",
      "instance attribute with the name as non_data_descriptor.\n"
     ]
    }
   ],
   "source": [
    "class Clazz:\n",
    "    data_descriptor = DataDescriptor('data_descriptor')\n",
    "    non_data_descriptor = NonDataDescriptor('non_data_descriptor')\n",
    "    class_or_instance_attribute = 'this is a class attribute.'\n",
    "    \n",
    "    def __init__(self):\n",
    "        self.instance_attribute = 'instance_attribute'\n",
    "        self.class_or_instance_attribute = 'this is an instance attribute.'\n",
    "        \n",
    "    def renew_attr(self):\n",
    "        self.__dict__['data_descriptor'] = 'instance attribute with the name as data_descriptor.'\n",
    "        self.__dict__['non_data_descriptor'] = 'instance attribute with the name as non_data_descriptor.'\n",
    "\n",
    "c = Clazz()\n",
    "print(c.data_descriptor)\n",
    "print(c.non_data_descriptor)\n",
    "print(c.class_or_instance_attribute)\n",
    "print(c.instance_attribute)\n",
    "print()\n",
    "print('# after attr renew.')\n",
    "c.renew_attr()\n",
    "print(c.data_descriptor)\n",
    "print(c.non_data_descriptor)"
   ]
  },
  {
   "cell_type": "markdown",
   "metadata": {},
   "source": [
    "## 类属性查找\n",
    "\n",
    "python中类可以被视为是元类的实例，因此类属性查找与实例属性查找顺序基本相同。区别在于，此时不存在实例，因此不会从实例的`__dict__`中查找属性。\n",
    "\n",
    "对于类`Clazz`，属性`Clazz.name`的查找顺序如下：\n",
    "\n",
    "1. 如果`name`出现在类`Clazz`或其基类的`__dict__`中，无论`name`为数据型描述符或非数据型描述符，都直接调用其`__get__()`方法，否则转2。\n",
    "2. 如果`name`出现在类`Clazz`或其基类的`__dict__`中，且`name`不是描述符，则返回`__dict__['attr']`，否则转3。\n",
    "3. 如果`name`既没有出现在类`Clazz`或其基类的`__dict__`中，此时若`Clazz`定义了`__getattr__()`方法，则调用该方法，否则转4。\n",
    "4. 抛出`AttributeError`异常。\n",
    "\n",
    "简单来说，如果`Clazz.__dict__['name']`是一个描述符，则调用其`__get__()`方法，否则返回`Clazz.__dict__['name']`。\n",
    "\n",
    "### 描述符与实例方法\n",
    "\n",
    "这也阐明了python中方法与函数的关系。\n",
    "\n",
    "首先定义一个函数`func()`，调用`dir(func)`，可以发现函数包含一个`__get__()`方法，可知函数也可以被视为一个非数据型描述符，因此在通过属性查找一个类的方法时，其属性查找顺序与非数据型描述符类似。"
   ]
  },
  {
   "cell_type": "code",
   "execution_count": 38,
   "metadata": {},
   "outputs": [
    {
     "name": "stdout",
     "output_type": "stream",
     "text": [
      "__get__ in dir(Function)\n",
      "__set__ not in dir(Function)\n"
     ]
    }
   ],
   "source": [
    "def func():\n",
    "    pass\n",
    "\n",
    "if '__get__' in dir(func):\n",
    "    print('__get__ in dir(Function)')\n",
    "    \n",
    "if '__set__' not in dir(func):\n",
    "    print('__set__ not in dir(Function)')"
   ]
  },
  {
   "cell_type": "markdown",
   "metadata": {},
   "source": [
    "根据非数据型描述符的特性，一个实例`obj`调用一个方法`func(self)`时，python实际是通过`func.__get__(obj, Clazz)`实现的。\n",
    "\n",
    "与实例方法类似的，python中的静态方法与类方法的实现方式都是通过描述符实现的。"
   ]
  },
  {
   "cell_type": "markdown",
   "metadata": {},
   "source": [
    "### 绑定方法与未绑定方法\n",
    "\n",
    "对于定义了一个方法的类`Foo`，`func`是类`Foo`的类属性，因此实例`c.__dict__`中没有`func`。"
   ]
  },
  {
   "cell_type": "code",
   "execution_count": 39,
   "metadata": {},
   "outputs": [
    {
     "name": "stdout",
     "output_type": "stream",
     "text": [
      "{'__doc__': None, '__module__': '__main__', 'func': <function Foo.func at 0x0344D390>, '__weakref__': <attribute '__weakref__' of 'Foo' objects>, '__dict__': <attribute '__dict__' of 'Foo' objects>}\n",
      "{}\n"
     ]
    }
   ],
   "source": [
    "class Foo:\n",
    "    def func(self):\n",
    "        pass\n",
    "    \n",
    "c = Foo()\n",
    "print(Foo.__dict__)\n",
    "print(c.__dict__)"
   ]
  },
  {
   "cell_type": "markdown",
   "metadata": {},
   "source": [
    "在python2中，`Foo.__dict__['func']`返回的是一个function，而`Foo.func`返回的是一个unbound method。\n",
    "\n",
    "但在python3中，unbound method的概念已经被抛弃，`Foo.__dict__['func']`与`Foo.func`返回的都是指向同一个地址的function，而`c.func`返回的是bound method。"
   ]
  },
  {
   "cell_type": "code",
   "execution_count": 14,
   "metadata": {},
   "outputs": [
    {
     "name": "stdout",
     "output_type": "stream",
     "text": [
      "<function Foo.func at 0x03404D68>\n"
     ]
    }
   ],
   "source": [
    "print(Foo.__dict__['func'])"
   ]
  },
  {
   "cell_type": "code",
   "execution_count": 15,
   "metadata": {},
   "outputs": [
    {
     "name": "stdout",
     "output_type": "stream",
     "text": [
      "<function Foo.func at 0x03404D68>\n"
     ]
    }
   ],
   "source": [
    "print(Foo.func)"
   ]
  },
  {
   "cell_type": "code",
   "execution_count": 40,
   "metadata": {},
   "outputs": [
    {
     "name": "stdout",
     "output_type": "stream",
     "text": [
      "<bound method Foo.func of <__main__.Foo object at 0x0342BA90>>\n"
     ]
    }
   ],
   "source": [
    "print(c.func)"
   ]
  },
  {
   "cell_type": "markdown",
   "metadata": {},
   "source": [
    "## 属性赋值\n",
    "\n",
    "python中属性的赋值与数据型描述符和`__setattr__()`函数相关。\n",
    "\n",
    "对于`obj = Clazz()`，属性`obj.name`赋值的顺序如下：\n",
    "\n",
    "1. 如果`Clazz`定义了`__setattr__()`方法，则直接调用该方法，否则转2。\n",
    "2. 如果`name`出现在`Clazz`或其基类的`__dict__`中，且`name`为数据型描述符，则调用其`__set__()`方法，否则转3。\n",
    "3. 直接执行`obj.__dict['name'] = value`。"
   ]
  },
  {
   "cell_type": "code",
   "execution_count": 19,
   "metadata": {},
   "outputs": [
    {
     "name": "stdout",
     "output_type": "stream",
     "text": [
      "AssignmentClazz __setattr__() is called.\n",
      "AssignmentClazz __setattr__() is called.\n"
     ]
    }
   ],
   "source": [
    "class AssignmentDescriptor:\n",
    "    def __init__(self, name):\n",
    "        self.name = name\n",
    "        \n",
    "    def __get__(self, instance, owner):\n",
    "        return instance.__dict__[self.name]\n",
    "    \n",
    "    def __set__(self, instance, value):\n",
    "        instance.__dict__[self.name] = value\n",
    "        print('AssignmentDescriptor __set__() is called.')\n",
    "\n",
    "class AssignmentWithSetAttrClazz:\n",
    "    x = AssignmentDescriptor('x')\n",
    "    def __init__(self):\n",
    "        self.x = 0\n",
    "        \n",
    "    def __setattr__(self, name, value):\n",
    "        self.__dict__[name] = value\n",
    "        print('AssignmentClazz __setattr__() is called.')\n",
    "        \n",
    "c = AssignmentWithSetAttrClazz()\n",
    "c.x = 123"
   ]
  },
  {
   "cell_type": "code",
   "execution_count": 18,
   "metadata": {},
   "outputs": [
    {
     "name": "stdout",
     "output_type": "stream",
     "text": [
      "AssignmentDescriptor __set__() is called.\n",
      "AssignmentDescriptor __set__() is called.\n"
     ]
    }
   ],
   "source": [
    "class AssignmentWithoutSetAttrClazz:\n",
    "    x = AssignmentDescriptor('x')\n",
    "    def __init__(self):\n",
    "        self.x = 0\n",
    "        \n",
    "c = AssignmentWithoutSetAttrClazz()\n",
    "c.x = 123"
   ]
  },
  {
   "cell_type": "code",
   "execution_count": 24,
   "metadata": {},
   "outputs": [
    {
     "name": "stdout",
     "output_type": "stream",
     "text": [
      "AssignmentDescriptor __set__() is called.\n"
     ]
    },
    {
     "data": {
      "text/plain": [
       "0"
      ]
     },
     "execution_count": 24,
     "metadata": {},
     "output_type": "execute_result"
    }
   ],
   "source": [
    "d = AssignmentWithoutSetAttrClazz()\n",
    "d.x"
   ]
  },
  {
   "cell_type": "markdown",
   "metadata": {},
   "source": [
    "虽然描述符是一定是一个类属性，但由于`__get__()`与`__set__()`方法中都包含一个`instance`参数，用于与对应的实例绑定。因此，通过`instance.__dict__[name]`可以将属于类属性的描述符表现的像一个实例属性。\n",
    "\n",
    "如`d`与`e`都是`AssignmentWithoutSetAttrClazz`实例，由于描述符`x`中是通过`instance.__dict__[name]`为`d`与`e`中的添加`x`属性并赋值的，因此在对`e.x`赋值时并不会影响到`d.x`的值。"
   ]
  },
  {
   "cell_type": "code",
   "execution_count": 27,
   "metadata": {},
   "outputs": [
    {
     "name": "stdout",
     "output_type": "stream",
     "text": [
      "AssignmentDescriptor __set__() is called.\n",
      "AssignmentDescriptor __set__() is called.\n",
      "0\n",
      "1000\n"
     ]
    }
   ],
   "source": [
    "e = AssignmentWithoutSetAttrClazz()\n",
    "e.x = 1000\n",
    "print(d.x)\n",
    "print(e.x)"
   ]
  },
  {
   "cell_type": "code",
   "execution_count": null,
   "metadata": {},
   "outputs": [],
   "source": [
    "# TODO 函数的动态绑定\n",
    "def instance_function():\n",
    "    print('instance_function is called.')\n",
    "    \n",
    "def clazz_function(instance):\n",
    "    print('clazz_function is called.')\n",
    "    print('bound instance is ', instance)\n",
    "    \n",
    "class FunctionBoundingClazz:\n",
    "    pass\n",
    "\n",
    "# BoundingClazz.func = unbound_function\n",
    "# BoundingClazz.func()\n",
    "# b = BoundingClazz()\n",
    "# b.func = func\n",
    "# b.func()\n",
    "\n",
    "FunctionBoundingClazz.func = instance_function\n",
    "FunctionBoundingClazz.func()\n",
    "\n",
    "b = FunctionBoundingClazz()\n",
    "b.func = instance_function\n",
    "b.func()"
   ]
  }
 ],
 "metadata": {
  "kernelspec": {
   "display_name": "Python 3",
   "language": "python",
   "name": "python3"
  },
  "language_info": {
   "codemirror_mode": {
    "name": "ipython",
    "version": 3
   },
   "file_extension": ".py",
   "mimetype": "text/x-python",
   "name": "python",
   "nbconvert_exporter": "python",
   "pygments_lexer": "ipython3",
   "version": "3.5.1"
  }
 },
 "nbformat": 4,
 "nbformat_minor": 2
}
