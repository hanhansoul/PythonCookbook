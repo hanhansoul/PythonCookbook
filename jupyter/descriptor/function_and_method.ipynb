{
 "cells": [
  {
   "cell_type": "markdown",
   "metadata": {},
   "source": [
    "## 函数与方法\n",
    "\n",
    "python中函数与方法的区别是，方法的第一个参数是一个指向实例的指针`self`，而函数参数中不包含`self`指针。\n",
    "\n",
    "函数中都包含一个`__get__()`方法，因此函数都可以被视为非数据型描述符。python正是通过非数据型描述符实现了将函数与一个实例绑定，从而使函数以一个方法的形式调用。\n",
    "\n",
    "python正式通过函数的`__get__()`方法，将实例或类作为第一个参数传入函数中，从而实现函数与类的绑定。"
   ]
  },
  {
   "cell_type": "code",
   "execution_count": 30,
   "metadata": {},
   "outputs": [
    {
     "data": {
      "text/plain": [
       "<bound method func of <__main__.Foo object at 0x0345D410>>"
      ]
     },
     "execution_count": 30,
     "metadata": {},
     "output_type": "execute_result"
    }
   ],
   "source": [
    "class Foo:\n",
    "    pass\n",
    "\n",
    "def func(obj):\n",
    "    print('func')\n",
    "    \n",
    "c = Foo()\n",
    "func.__get__(c, Foo)"
   ]
  },
  {
   "cell_type": "code",
   "execution_count": 32,
   "metadata": {},
   "outputs": [
    {
     "name": "stdout",
     "output_type": "stream",
     "text": [
      "func\n"
     ]
    }
   ],
   "source": [
    "func.__get__(c, Foo)()"
   ]
  },
  {
   "cell_type": "markdown",
   "metadata": {},
   "source": [
    "首先定义类`Foo`与函数`func()`。\n",
    "\n",
    "当需要将一个该函数与该类的一个实例`c`绑定时，函数`func()`参数列表中的第一个参数`obj`是必不可少的，该参数将在函数调用时接受一个实例`c`作为参数，其作用与实例方法中的`self`参数相同。\n",
    "\n",
    "`func.__get__(c, Foo)`将返回一个绑定了实例`c`的绑定方法，通过`func.__get__(c, Foo)()`即可调用该方法。\n",
    "\n",
    "其中函数的`__get__()`方法的原理如下所示。"
   ]
  },
  {
   "cell_type": "code",
   "execution_count": 33,
   "metadata": {},
   "outputs": [],
   "source": [
    "class Function(object):\n",
    "    def __get__(self, instance, objtype=None):\n",
    "        if instance is None:\n",
    "            return self\n",
    "        return types.MethodType(self, instance)"
   ]
  },
  {
   "cell_type": "code",
   "execution_count": 5,
   "metadata": {},
   "outputs": [
    {
     "name": "stdout",
     "output_type": "stream",
     "text": [
      "<function D.f at 0x031A3C00>\n",
      "<function D.f at 0x031A3C00>\n",
      "<bound method D.f of <__main__.D object at 0x031CA870>>\n",
      "<function D.f at 0x031A3C00>\n",
      "<__main__.D object at 0x031CA870>\n",
      "<class 'method'>\n"
     ]
    }
   ],
   "source": [
    "class D:\n",
    "    def f(self, x):\n",
    "        return x\n",
    "\n",
    "d = D()\n",
    "# 直接通过类的__dict__访问方法不会调用__get__()方法\n",
    "print(D.__dict__['f'])\n",
    "# 类属性查找方式访问方法将调用__get__()方法\n",
    "print(D.f)\n",
    "# 实例属性查找方式访问方法将调用__get__()方法，返回一个bound method对象\n",
    "print(d.f)\n",
    "# bound method对象中的属性存储了对应的方法、绑定的实例与类\n",
    "print(d.f.__func__)\n",
    "print(d.f.__self__)\n",
    "print(d.f.__class__)"
   ]
  },
  {
   "cell_type": "markdown",
   "metadata": {},
   "source": [
    "## 静态方法与类方法\n",
    "\n",
    "非数据型描述符的特性提供了将一个函数与实例绑定并转换为方法的功能。\n",
    "\n",
    "函数中包含一个`__get__()`方法，使的函数能够在作为一个实例属性被访问时，可以转换成一个方法。如对于实例`obj`，调用`obj.f(*args)`被转换为调用`f(obj, *args)`，而对于类`Clazz`，调用`Clazz.f(*args)`被转换为调用`f(*args)`。\n",
    "\n",
    "|方法类型|实例调用|类调用|\n",
    "|-|-|-|\n",
    "|函数|`f(obj, *args)`|`f(*args)`|\n",
    "|静态方法|`f(*args)`|`f(*args)`|\n",
    "|类方法|`f(type(obj), *args)`|`f(Clazz, *args`|\n",
    "\n",
    "### 类方法\n",
    "\n",
    "与实例方法类似，类方法也需要指定其第一个参数。不同的是，实例方法第一个参数`self`指向的是一个实例，而类方法的第一个参数`cls`指向的是类本身。\n",
    "\n",
    "类方法主要应用于需要类的引用，但又不需要相关实例数据的情况，多用于工厂方法。"
   ]
  },
  {
   "cell_type": "code",
   "execution_count": 13,
   "metadata": {},
   "outputs": [
    {
     "name": "stdout",
     "output_type": "stream",
     "text": [
      "('ClsMethodClazz', 3)\n",
      "('ClsMethodClazz', 3)\n"
     ]
    }
   ],
   "source": [
    "class ClsMethodClazz:\n",
    "    def func(cls, x):\n",
    "        return cls.__name__, x\n",
    "    func = classmethod(func)\n",
    "    \n",
    "print(ClsMethodClazz.func(3))\n",
    "print(ClsMethodClazz().func(3))"
   ]
  },
  {
   "cell_type": "markdown",
   "metadata": {},
   "source": [
    "其中`classmethod()`实现原理如下所示。"
   ]
  },
  {
   "cell_type": "code",
   "execution_count": null,
   "metadata": {},
   "outputs": [],
   "source": [
    "class ClassMethod:\n",
    "    def __init__(self, f):\n",
    "        self.f = f\n",
    "        \n",
    "    def __get__(self, obj, cls=None):\n",
    "        if cls is None:\n",
    "            cls = type(obj)\n",
    "        def newfunc(*args):\n",
    "            return self.f(cls, *args)\n",
    "        return newfunc"
   ]
  },
  {
   "cell_type": "markdown",
   "metadata": {},
   "source": [
    "### 静态方法\n",
    "\n",
    "静态函数是指函数参数中不包含指向实例的`self`参数，也不包含指向类的`cls`参数。\n",
    "\n",
    "调用静态方法`func()`时，对于类`Clazz`与实例`obj`，分别调用的是`object.__getattribute__(Clazz, 'func')`与`object.__getattribute__(obj, 'func')`。因此通过实例或类调用静态方法是相同的。"
   ]
  },
  {
   "cell_type": "code",
   "execution_count": 11,
   "metadata": {},
   "outputs": [
    {
     "name": "stdout",
     "output_type": "stream",
     "text": [
      "3\n",
      "3\n"
     ]
    }
   ],
   "source": [
    "class StaticMethodClazz:\n",
    "    def func(x):\n",
    "        return x\n",
    "    func = staticmethod(func)\n",
    "\n",
    "print(StaticMethodClazz.func(3))\n",
    "print(StaticMethodClazz().func(3))"
   ]
  },
  {
   "cell_type": "markdown",
   "metadata": {},
   "source": [
    "其中`staticmethod()`实现原理如下所示。"
   ]
  },
  {
   "cell_type": "code",
   "execution_count": null,
   "metadata": {},
   "outputs": [],
   "source": [
    "class StaticMethod:\n",
    "    def __init__(self, f):\n",
    "        self.f = f\n",
    "    \n",
    "    def __get__(self, obj, objtype=None):\n",
    "        return self.f"
   ]
  }
 ],
 "metadata": {
  "kernelspec": {
   "display_name": "Python 3",
   "language": "python",
   "name": "python3"
  },
  "language_info": {
   "codemirror_mode": {
    "name": "ipython",
    "version": 3
   },
   "file_extension": ".py",
   "mimetype": "text/x-python",
   "name": "python",
   "nbconvert_exporter": "python",
   "pygments_lexer": "ipython3",
   "version": "3.5.1"
  }
 },
 "nbformat": 4,
 "nbformat_minor": 2
}
