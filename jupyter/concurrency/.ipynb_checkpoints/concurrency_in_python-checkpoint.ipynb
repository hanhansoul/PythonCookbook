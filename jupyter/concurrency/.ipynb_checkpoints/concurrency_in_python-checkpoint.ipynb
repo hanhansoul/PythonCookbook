{
 "cells": [
  {
   "cell_type": "markdown",
   "metadata": {},
   "source": [
    "## 线程与多线程\n",
    "\n",
    "**线程**\n",
    "\n",
    "线程是操作系统中运行在程序里的最小执行单元。\n",
    "\n",
    "线程之间并不是相互独立的，每一个线程都共享代码空间与数据空间等。\n",
    "\n",
    "线程可以看做轻量级的进程。\n",
    "\n",
    "线程包括以下组成部分：\n",
    "\n",
    "- 由可执行操作指令地址构成的程序计数器\n",
    "- 栈\n",
    "- 一组寄存器\n",
    "- 唯一ID\n",
    "\n",
    "**多线程**\n",
    "\n",
    "多线程是指CPU中线程并发执行。\n",
    "\n",
    "多线程的核心思路是将一个进程拆分为多个线程。\n"
   ]
  }
 ],
 "metadata": {
  "kernelspec": {
   "display_name": "Python 3",
   "language": "python",
   "name": "python3"
  },
  "language_info": {
   "codemirror_mode": {
    "name": "ipython",
    "version": 3
   },
   "file_extension": ".py",
   "mimetype": "text/x-python",
   "name": "python",
   "nbconvert_exporter": "python",
   "pygments_lexer": "ipython3",
   "version": "3.6.5"
  }
 },
 "nbformat": 4,
 "nbformat_minor": 2
}
