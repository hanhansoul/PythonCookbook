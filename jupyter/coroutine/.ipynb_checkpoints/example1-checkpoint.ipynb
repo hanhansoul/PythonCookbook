{
 "cells": [
  {
   "cell_type": "markdown",
   "metadata": {},
   "source": [
    "## 同步与异步\n",
    "\n",
    "同步和异步关注的是消息通信机制。\n",
    "\n",
    "同步机制：在调用者发出一个调用请求后，调用者需要主动等待或者定时查询是否有结果返回。\n",
    "\n",
    "异步机制：在调用者发出一个调用请求后，\n",
    "\n",
    "\n",
    "\n",
    "## 阻塞与非阻塞\n",
    "\n",
    "阻塞非阻塞关注的是线程的状态。\n",
    "\n",
    "Java NIO提供了同步非阻塞的IO操作，其关注的是底层操作系统IO操作，而NIO中的Selector则提供了则提供了基于reactor模式的事件驱动的异步处理模式，NIO需要启动一个额外的线程监听是否有数据到达。"
   ]
  }
 ],
 "metadata": {
  "kernelspec": {
   "display_name": "Python 3",
   "language": "python",
   "name": "python3"
  },
  "language_info": {
   "codemirror_mode": {
    "name": "ipython",
    "version": 3
   },
   "file_extension": ".py",
   "mimetype": "text/x-python",
   "name": "python",
   "nbconvert_exporter": "python",
   "pygments_lexer": "ipython3",
   "version": "3.5.1"
  }
 },
 "nbformat": 4,
 "nbformat_minor": 2
}
