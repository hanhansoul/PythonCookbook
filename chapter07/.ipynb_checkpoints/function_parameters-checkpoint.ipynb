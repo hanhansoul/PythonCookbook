{
 "cells": [
  {
   "cell_type": "markdown",
   "metadata": {},
   "source": [
    "# 7 函数\n",
    "\n",
    "## 第一节\n",
    "\n",
    "### 问题\n",
    "\n",
    "创建一个函数，该函数可以接受任意数量参数。\n",
    "\n",
    "### 解决方案\n",
    "\n",
    "#### “\\*”表达式\n",
    "\n",
    "\\*表达式实现了对多个位置，任意数量的拆包操作，如出现函数调用，列表推导和生成器表达式等处实现拆包，主要可以分为两类：\n",
    "\n",
    "- \\*迭代器拆包操作符\n",
    "- \\*\\*字典拆包操作符\n",
    "\n",
    "拆包可以在tuple、list、set和dict使用："
   ]
  },
  {
   "cell_type": "code",
   "execution_count": 14,
   "metadata": {},
   "outputs": [
    {
     "name": "stdout",
     "output_type": "stream",
     "text": [
      "0 1 2 3 4\n",
      "[0, 1, 2, 3, 4]\n",
      "{0, 1, 2, 3, 4}\n",
      "{'z': 3, 'x': 1, 'y': 2}\n"
     ]
    }
   ],
   "source": [
    "print(*range(4), 4)                  # 在tuple中的应用\n",
    "print([*range(4), 4])                # 在list中的应用\n",
    "print({*range(4), 4})                # 在set中的应用\n",
    "print({'x': 1, **{'y': 2, 'z': 3}})  # 在dict中的应用，排列靠后的值会覆盖排列靠前的具有相同键的值"
   ]
  },
  {
   "cell_type": "markdown",
   "metadata": {},
   "source": [
    "函数参数拆包\n",
    "\n",
    "\\*表达式用于将可迭代对象进行拆包，包括tuple、list、string、file、迭代器与生成器，其最后返回的是一个tuple。"
   ]
  },
  {
   "cell_type": "code",
   "execution_count": 25,
   "metadata": {},
   "outputs": [
    {
     "name": "stdout",
     "output_type": "stream",
     "text": [
      "0 1 2 3\n",
      "(1, 2, 3)\n",
      "(1, 2, 3)\n",
      "{'a': 1}\n",
      "{'b': 2, 'a': 1, 'c': 3}\n"
     ]
    }
   ],
   "source": [
    "print(*range(4))\n",
    "\n",
    "def starred_unpacking_func(*args):\n",
    "    print(args)\n",
    "    \n",
    "starred_unpacking_func(*(1, 2, 3))\n",
    "starred_unpacking_func(*[1, 2, 3])\n",
    "\n",
    "def starred_starred_unpacking_func(**kwargs):\n",
    "    print(kwargs)\n",
    "    \n",
    "starred_starred_unpacking_func(a=1)\n",
    "starred_starred_unpacking_func(**dict(a=1, b=2, c=3))"
   ]
  },
  {
   "cell_type": "markdown",
   "metadata": {},
   "source": [
    "可迭代对象拆包\n",
    "\n",
    "\\*表达式可以在一个tuple中，作为左值对一个可迭代对象右值进行拆包。"
   ]
  },
  {
   "cell_type": "code",
   "execution_count": 8,
   "metadata": {},
   "outputs": [
    {
     "name": "stdout",
     "output_type": "stream",
     "text": [
      "0\n",
      "[1, 2, 3]\n",
      "4\n",
      "10 0 1\n"
     ]
    }
   ],
   "source": [
    "a, *b, c = range(5)\n",
    "print(a, b, c, sep='\\n')\n",
    "print(10, *range(2))"
   ]
  },
  {
   "cell_type": "markdown",
   "metadata": {},
   "source": [
    "\\*表达式不能单独作为左值被赋值，而只能出现在tuple中"
   ]
  },
  {
   "cell_type": "code",
   "execution_count": null,
   "metadata": {},
   "outputs": [],
   "source": [
    "# wrong\n",
    "# *a = range(5)\n",
    "# right *a在tuple中\n",
    "*a, = range(5)"
   ]
  },
  {
   "cell_type": "code",
   "execution_count": 13,
   "metadata": {},
   "outputs": [
    {
     "name": "stdout",
     "output_type": "stream",
     "text": [
      "[1, 2, 3, 4, 5, 6, 7]\n",
      "(1, 2, 3, 'a')\n",
      "1 2 3 a\n",
      "{'a': 2, 'd': 4, 'c': 'new 3'}\n"
     ]
    }
   ],
   "source": [
    "print([1, 2, *[3, 4], *[5], *(6, 7)])\n",
    "print((1, *[2, 3], *{'a': 1}))\n",
    "print(1, *[2, 3], *{'a': 1})\n",
    "print({'a': 1, **{'a': 2, 'c': 3}, **{'c': 'new 3', 'd': 4}})\n"
   ]
  },
  {
   "cell_type": "markdown",
   "metadata": {},
   "source": [
    "#### 变长参数列表\n",
    "\n",
    "函数可以接受任意数量的参数，这些参数被封装在一个tuple。"
   ]
  },
  {
   "cell_type": "markdown",
   "metadata": {},
   "source": [
    "#### 函数定义中的形参列表形式\n",
    "\n",
    "python函数定义的EBNF表达式(注意，官方文档中的EBNF表达式并没有完全表明函数定义语法，如参数默认值的限制条件便没有表示出来，此处还需要阅读文档中的解释文字)：\n",
    "\n",
    "    /* 函数定义 */\n",
    "    funcdef                 ::=  [decorators] \"def\" funcname \"(\n",
    "                                   [parameter_list] \")\" [\"->\" expression] \":\" suite\n",
    "    \n",
    "    /* 装饰器 */\n",
    "    decorators              ::=  decorator+\n",
    "    decorator               ::=  \"@\" dotted_name [\"(\" [argument_list [\",\"]] \")\"] NEWLINE\n",
    "    dotted_name             ::=  identifier (\".\" identifier)*\n",
    "    \n",
    "    /* 参数列表 */\n",
    "    parameter_list          ::=  defparameter (\",\" defparameter)* [\",\" [parameter_list_starargs]]\n",
    "                                 | parameter_list_starargs\n",
    "    parameter_list_starargs ::=  \"*\" [parameter] (\",\" defparameter)* [\",\" [\"**\" parameter [\",\"]]]\n",
    "                                 | \"**\" parameter [\",\"]\n",
    "    parameter               ::=  identifier [\":\" expression]\n",
    "    defparameter            ::=  parameter [\"=\" expression]\n",
    "    funcname                ::=  identifier\n",
    "    \n",
    "python官方文档通过EBNF表达式提供了函数定义的语法，在抛开函数装饰器、函数参数注解和函数返回值注解后，可以将函数定义中的形参列表进行简化，并分为四个部分。\n",
    "\n",
    "    funcname(def_positional_parameters, *args, def_keyword_parameters, **kwargs):\n",
    "        pass\n",
    "\n",
    "这四部分形参列表的解释与注意事项如下：\n",
    "\n",
    "- def_positional_parameters和def_keyword_parameters形式相同，都包含了任意数量给定了参数名的参数，其中又分为未给定默认值的参数(identifier)和给定了默认值的参数(identifier=expression)，且未给定默认值的参数一定位于给定了默认值的参数之前，这两类参数同样都是可选的。\n",
    "- def_positional_parameters只负责接收positional参数，而def_keyword_parameters只负责接收keyword参数。\n",
    "- 形如\\*args的参数至多出现一次，且要求\n",
    "一定出现在def_positional_parameters之后，同时要求出现在def_keyword_parameters或\\*\\*kwargs参数之前，负责接收变长的positional参数。\n",
    "- 形如\\*\\*kwargs的参数至多出现一次，且一定位于参数列表中所有形参的最末尾，负责接收变长的keyword参数。\n",
    "\n",
    "如果需要定义一个函数，该函数只接受keyword参数，则需要使用如下定义形式：\n",
    "\n",
    "    funcname(*, def_keyword_parameters, **kwargs):\n",
    "        pass\n",
    "        \n",
    "所有在“\\*”和“\\*args”之后的参数都是仅接受keyword实参的形参。\n"
   ]
  },
  {
   "cell_type": "markdown",
   "metadata": {},
   "source": [
    "#### 函数参数默认值为可变变量\n",
    "\n",
    "python中，函数在定义时会将当前的命名空间中的该函数名绑定到一个函数对象上，这种绑定操作只会执行一次。因此在函数定义时，给定了默认值的参数也只会在定义时绑定一次，而在之后的调用中，函数都将使用同一个可变对象。在函数参数绑定的默认值为一个可变对象时，这一特性需要引起注意。可变对象包括list、set、dect等。"
   ]
  },
  {
   "cell_type": "code",
   "execution_count": 3,
   "metadata": {},
   "outputs": [
    {
     "name": "stdout",
     "output_type": "stream",
     "text": [
      "[1]\n",
      "[1, 2]\n",
      "[1, 2, 3]\n"
     ]
    }
   ],
   "source": [
    "def default_value_binding(val, values=[]):\n",
    "    values.append(val)\n",
    "    return values\n",
    "\n",
    "res = default_value_binding(1)\n",
    "print(res)\n",
    "res = default_value_binding(2)\n",
    "print(res)\n",
    "res = default_value_binding(3)\n",
    "print(res)"
   ]
  },
  {
   "cell_type": "markdown",
   "metadata": {},
   "source": [
    "#### 函数调用中的实参列表形式\n",
    "    \n",
    "python函数调用的EBNF表达式：\n",
    "    \n",
    "    call                 ::=  primary \"(\" [argument_list [\",\"] | comprehension] \")\"\n",
    "    \n",
    "    argument_list        ::=  positional_arguments [\",\" starred_and_keywords]\n",
    "                                [\",\" keywords_arguments]\n",
    "                              | starred_and_keywords [\",\" keywords_arguments]\n",
    "                              | keywords_arguments\n",
    "    positional_arguments ::=  [\"*\"] expression (\",\" [\"*\"] expression)*\n",
    "    starred_and_keywords ::=  (\"*\" expression | keyword_item)\n",
    "                              (\",\" \"*\" expression | \",\" keyword_item)*\n",
    "    keywords_arguments   ::=  (keyword_item | \"**\" expression)\n",
    "                              (\",\" keyword_item | \",\" \"**\" expression)*\n",
    "    keyword_item         ::=  identifier \"=\" expression\n",
    "    \n",
    "对函数调用语法的EBNF表达式简化，只关注函数调用中的实参列表，可以将其分为两个部分：\n",
    "\n",
    "    funcname(positional_parameters, keyword_parameters)\n",
    "    \n",
    "这两部分实参列表的解释与注意事项如下：\n",
    "\n",
    "- positional_parameters是指直接提供实参值的形式，如expression；而keyword_parameters是指提供形参变量与实参值的形式，如parameter=expression。\n",
    "- positional_parameters为函数定义中的def_positional_parameters和\\*args提供参数；而keyword_parameters为函数定义中的def_keyword_parameters和\\*\\*kwargs提供参数。\n",
    "- 根据\\*表达式，positional_parameters可以为"
   ]
  },
  {
   "cell_type": "code",
   "execution_count": 4,
   "metadata": {},
   "outputs": [],
   "source": [
    "def func(a, b, c=1, *args, d, e, f=10, **kwargs):\n",
    "    pass"
   ]
  }
 ],
 "metadata": {
  "kernelspec": {
   "display_name": "Python 3",
   "language": "python",
   "name": "python3"
  },
  "language_info": {
   "codemirror_mode": {
    "name": "ipython",
    "version": 3
   },
   "file_extension": ".py",
   "mimetype": "text/x-python",
   "name": "python",
   "nbconvert_exporter": "python",
   "pygments_lexer": "ipython3",
   "version": "3.5.4"
  }
 },
 "nbformat": 4,
 "nbformat_minor": 1
}
