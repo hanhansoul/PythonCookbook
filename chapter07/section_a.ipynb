{
 "cells": [
  {
   "cell_type": "markdown",
   "metadata": {},
   "source": [
    "# 7 函数\n",
    "\n",
    "## 第一节\n",
    "\n",
    "### 问题\n",
    "\n",
    "创建一个函数，该函数可以接受任意数量参数。\n",
    "\n",
    "### 解决方案\n",
    "\n",
    "#### \\*表达式\n",
    "\n",
    "python支持\\*表达式对可迭代对象进行拆包操作。\n",
    "\n",
    "如果\n",
    "\n",
    "#### 函数参数类型\n",
    "\n",
    "python中函数的参数包括positional参数和keyword参数两种，这两类参数在函数的形参与实参中又有不同。\n",
    "\n",
    "**函数形参**\n",
    "\n",
    "对于函数的形参，其参数类型包括：\n",
    "\n",
    "- positional参数，如expression\n",
    "- 变长的positional参数，如\\*args\n",
    "- keyword参数，如identifier=expression\n",
    "- 变长的keyword参数，如\\*\\*kwargs\n",
    "\n",
    "其中函数形参必须按照以下顺序出现：\n",
    "    \n",
    "    func( argument_list | comprehension )\n",
    "    \n",
    "    argument_list = positional_arguments[, startted_and_keywords][, keywords_arguments] |\n",
    "               starred_and_keywords[, keywords_arguments] |\n",
    "               keywords_arguments\n",
    "               \n",
    "    positional_arguments = expression_1, expression_2, ..., expression_n\n",
    "    \n",
    "    starred_and_keywords = (*args | keyword_item)\n",
    "                        \n",
    "                        \n",
    "    \n",
    "\n",
    "\n",
    "    call              ::=  primary \"(\" [argument_list [\",\"] | comprehension] \")\"\n",
    "\n",
    "    argument_list        ::=  positional_arguments [\",\" starred_and_keywords]\n",
    "                                [\",\" keywords_arguments]\n",
    "                              | starred_and_keywords [\",\" keywords_arguments]\n",
    "                              | keywords_arguments\n",
    "\n",
    "    positional_arguments   ::=  [\"*\"] expression (\",\" [\"*\"] expression)*\n",
    "\n",
    "    starred_and_keywords   ::=  (\"*\" expression | keyword_item)\n",
    "                              (\",\" \"*\" expression | \",\" keyword_item)*\n",
    "\n",
    "    keywords_arguments     ::=  (keyword_item | \"**\" expression)\n",
    "                              (\",\" keyword_item | \",\" \"**\" expression)*\n",
    "\n",
    "    keyword_item         ::=  identifier \"=\" expression\n",
    "        \n",
    "其中positional_args包括positional参数和\\*args参数，starred_and_keywords包括\\*args参数和keyword参数，keywords_args包括keyword参数和\\*\\*kwargs参数。\n",
    "\n",
    "函数的参数列表中只能有一个\\*args参数，而且必须位于keyword参数和\\*\\*kwargs参数之前；同时函数的参数列表只能有一个\\*\\*kwargs参数，而且必须位于参数列表的最末尾。\n",
    "\n",
    "**函数实参**\n",
    "\n",
    "对于函数的实参，positional参数指的是直接给定参数值的参数，而keyword参数指的是指定了参数名与参数值的参数。\n",
    "\n",
    "\\*args形参只接受任意数量的positional实参，\\*\\*kwargs只接受任意数量的keyword实参。\n",
    "\n",
    "同样的，在函数调用时，所有positional参数都出现在keyword参数之前。\n",
    "\n",
    "python通过*-arg接受任意数量的positional参数\n",
    "\n",
    "positional参数可以接受keyword参数"
   ]
  },
  {
   "cell_type": "code",
   "execution_count": null,
   "metadata": {},
   "outputs": [
    {
     "ename": "SyntaxError",
     "evalue": "invalid syntax (<ipython-input-12-cfbe7113e2dc>, line 1)",
     "traceback": [
      "\u001b[1;36m  File \u001b[1;32m\"<ipython-input-12-cfbe7113e2dc>\"\u001b[1;36m, line \u001b[1;32m1\u001b[0m\n\u001b[1;33m    def func(*args1, *args2, a, b, **kwargs):\u001b[0m\n\u001b[1;37m                     ^\u001b[0m\n\u001b[1;31mSyntaxError\u001b[0m\u001b[1;31m:\u001b[0m invalid syntax\n"
     ],
     "output_type": "error"
    }
   ],
   "source": [
    "def func(*args1, *args2, a, b, **kwargs):\n",
    "    print(a)\n",
    "\n",
    "def g(a, b, c, *args):\n",
    "    pass\n",
    "\n",
    "g(a=1,b=2,c=3,d=4)"
   ]
  },
  {
   "cell_type": "code",
   "execution_count": 14,
   "metadata": {},
   "outputs": [
    {
     "name": "stdout",
     "output_type": "stream",
     "text": [
      "0\n",
      "[1, 2, 3]\n",
      "4\n"
     ]
    }
   ],
   "source": [
    "# starred expression\n",
    "a, *b, c = range(5)\n",
    "print(a)\n",
    "print(b)\n",
    "print(c)"
   ]
  },
  {
   "cell_type": "markdown",
   "metadata": {},
   "source": [
    "**函数定义中的形参列表形式**\n",
    "\n",
    "python函数定义的EBNF表达式(注意，官方文档中的EBNF表达式并没有完全表明函数定义语法，如参数默认值的限制条件便没有表示出来，此处还需要阅读文档中的解释文字)：\n",
    "\n",
    "    /* 函数定义 */\n",
    "    funcdef                 ::=  [decorators] \"def\" funcname \"(\" [parameter_list] \")\" [\"->\" expression] \":\" suite\n",
    "    \n",
    "    /* 装饰器 */\n",
    "    decorators              ::=  decorator+\n",
    "    decorator               ::=  \"@\" dotted_name [\"(\" [argument_list [\",\"]] \")\"] NEWLINE\n",
    "    dotted_name             ::=  identifier (\".\" identifier)*\n",
    "    \n",
    "    /* 参数列表 */\n",
    "    parameter_list          ::=  defparameter (\",\" defparameter)* [\",\" [parameter_list_starargs]]\n",
    "                                 | parameter_list_starargs\n",
    "    parameter_list_starargs ::=  \"*\" [parameter] (\",\" defparameter)* [\",\" [\"**\" parameter [\",\"]]]\n",
    "                                 | \"**\" parameter [\",\"]\n",
    "    parameter               ::=  identifier [\":\" expression]\n",
    "    defparameter            ::=  parameter [\"=\" expression]\n",
    "    funcname                ::=  identifier\n",
    "    \n",
    "python官方文档通过EBNF表达式提供了函数定义的语法，在抛开函数装饰器、函数参数注解和函数返回值注解后，可以将函数定义中的形参列表进行简化，并分为四个部分。\n",
    "\n",
    "    funcname(parameters_before, *args, parameters_after, **kwargs):\n",
    "        pass\n",
    "\n",
    "这四部分形参列表解释与注意事项如下：\n",
    "\n",
    "- parameters_before和parameters_after形式相同，都包含了任意数量给定了参数名的参数，其中又分为未给定默认值的参数(identifier)和给定了默认值的参数(identifier=expression)，且未给定默认值的参数一定位于给定了默认值的参数之前，这两类参数同样都是可选的。\n",
    "- parameters_before负责接收positional参数，parameters_after负责接收keyword参数。\n",
    "- 形如\\*args的参数至多出现一次，且一定出现在parameters_before之后，出现在parameters_after或\\*\\*kwargs参数之前，负责接收变长的positional参数。\n",
    "- 形如\\*\\*kwargs的参数至多出现一次，且一定位于参数列表中所有形参的最末尾，负责接收变长的keyword参数。\n",
    "\n",
    "如果需要定义一个函数，该函数只接受keyword参数，则需要使用如下定义形式：\n",
    "\n",
    "    funcname(*, parameters_after, **kwargs):\n",
    "        pass\n",
    "        \n",
    "所有在“\\*”和“\\*args”之后的参数都是仅接受keyword实参的形参。\n",
    "\n",
    "\n",
    "函数定义中给定了默认值的参数只在定义时绑定一次，之后的调用中，函数都将使用同一个值。在函数参数绑定的默认值为一个可变对象时，这一特性需要引起注意。\n",
    "\n",
    "\n",
    "**函数调用中的实参列表形式**\n",
    "    \n",
    "    call                 ::=  primary \"(\" [argument_list [\",\"] | comprehension] \")\"\n",
    "    argument_list        ::=  positional_arguments [\",\" starred_and_keywords]\n",
    "                                [\",\" keywords_arguments]\n",
    "                              | starred_and_keywords [\",\" keywords_arguments]\n",
    "                              | keywords_arguments\n",
    "    positional_arguments ::=  [\"*\"] expression (\",\" [\"*\"] expression)*\n",
    "    starred_and_keywords ::=  (\"*\" expression | keyword_item)\n",
    "                              (\",\" \"*\" expression | \",\" keyword_item)*\n",
    "    keywords_arguments   ::=  (keyword_item | \"**\" expression)\n",
    "                              (\",\" keyword_item | \",\" \"**\" expression)*\n",
    "    keyword_item         ::=  identifier \"=\" expression"
   ]
  },
  {
   "cell_type": "code",
   "execution_count": 4,
   "metadata": {},
   "outputs": [],
   "source": [
    "def func(a, b, c=1, *args, d, e, f=10, **kwargs):\n",
    "    pass"
   ]
  }
 ],
 "metadata": {
  "kernelspec": {
   "display_name": "Python 3",
   "language": "python",
   "name": "python3"
  },
  "language_info": {
   "codemirror_mode": {
    "name": "ipython",
    "version": 3
   },
   "file_extension": ".py",
   "mimetype": "text/x-python",
   "name": "python",
   "nbconvert_exporter": "python",
   "pygments_lexer": "ipython3",
   "version": "3.5.4"
  }
 },
 "nbformat": 4,
 "nbformat_minor": 1
}
